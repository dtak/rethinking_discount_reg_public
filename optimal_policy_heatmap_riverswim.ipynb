{
  "nbformat": 4,
  "nbformat_minor": 0,
  "metadata": {
    "colab": {
      "provenance": []
    },
    "kernelspec": {
      "name": "python3",
      "display_name": "Python 3"
    },
    "language_info": {
      "name": "python"
    }
  },
  "cells": [
    {
      "cell_type": "markdown",
      "source": [
        "# Helper Functions"
      ],
      "metadata": {
        "id": "oUz1GamAXEOW"
      }
    },
    {
      "cell_type": "code",
      "execution_count": 1,
      "metadata": {
        "id": "zW_SEDSkUN4u"
      },
      "outputs": [],
      "source": [
        "import numpy as np\n",
        "import matplotlib.pyplot as plt\n",
        "from pandas import DataFrame\n",
        "import torch\n",
        "from matplotlib.ticker import FormatStrFormatter\n",
        "import seaborn as sns\n",
        "import random\n",
        "%matplotlib inline"
      ]
    },
    {
      "cell_type": "code",
      "source": [
        "def eval_policy(gamma,policy,T_list,R_list,theta):\n",
        "\n",
        "    num_states = T_list[0].shape[0]\n",
        "\n",
        "    index = list(zip(policy,range(num_states)))\n",
        "    T=[]\n",
        "    for t in T_list:\n",
        "        T.append(t.tolist())\n",
        "\n",
        "    T_pi = np.matrix([T[i][j] for (i,j) in index])\n",
        "\n",
        "    #R = [mean_rewards_0,mean_rewards_1]\n",
        "    #R_pi = np.transpose(np.matrix([R[i][j] for (i,j) in index]))\n",
        "    R_pi = np.transpose(np.matrix(R_list))\n",
        "\n",
        "    #value = np.dot(np.linalg.inv(np.eye(num_states)-gamma*T_pi),`R_pi)\n",
        "    #value = np.linalg.solve(np.eye(num_states)-gamma*T_pi,np.eye(num_states))@R_pi\n",
        "    value = np.linalg.solve(np.eye(num_states)-gamma*T_pi,R_pi)\n",
        "\n",
        "    #TODO solve function much more stable\n",
        "    #TODO code up value iteration to match\n",
        "    return value\n",
        "\n",
        "def policy_iter(gamma,T_list,R_list,theta):\n",
        "\n",
        "    num_states = T_list[0].shape[0]\n",
        "    num_actions = len(T_list)\n",
        "\n",
        "    #initialize value fucntion and policy arbitrarily\n",
        "    value= np.random.uniform(0,1,num_states)\n",
        "    value = np.transpose(np.matrix(value))\n",
        "    #policy = [0]*num_states #TODO init policy randomly?.\n",
        "    policy = np.random.binomial(n=1, p=0.5, size=[num_states]).tolist()\n",
        "    counter = 0\n",
        "\n",
        "    #policy improvement\n",
        "    policy_stable = False\n",
        "    max_iter = 10000\n",
        "    i = 0\n",
        "\n",
        "    while policy_stable ==False and i <max_iter:\n",
        "\n",
        "        counter+=1\n",
        "\n",
        "        old_policy = policy\n",
        "\n",
        "        rewards_mat = np.transpose(np.matrix(R_list))\n",
        "\n",
        "        a_list = []\n",
        "        for a in range(num_actions):\n",
        "            m = np.transpose(rewards_mat + T_list[a]@(gamma*value))\n",
        "            a_list.append(m.tolist()[0])\n",
        "        a_mat = np.transpose(np.matrix(a_list))\n",
        "\n",
        "        policy = np.transpose(np.argmax(a_mat,axis=1))[0]\n",
        "        policy = policy.tolist()[0]\n",
        "\n",
        "        if policy == old_policy:\n",
        "            policy_stable = True\n",
        "\n",
        "        #policy evaluation\n",
        "        value = eval_policy(gamma,policy,T_list,R_list,theta)\n",
        "        value = np.matrix(value)\n",
        "        i +=1\n",
        "\n",
        "    return policy, value\n",
        "\n",
        "def value_iter(gamma, T_list,R_list, theta = .001):\n",
        "  \"\"\"Value Iteration\n",
        "  \"\"\"\n",
        "  num_states = T_list[0].shape[0]\n",
        "\n",
        "  T = torch.tensor(np.array([np.array(x) for x in T_list]))\n",
        "  R = torch.tensor(np.array(R_list))\n",
        "\n",
        "  #V = torch.tensor(np.zeros(10))\n",
        "  V = torch.tensor(np.random.uniform(0,1,num_states))\n",
        "  delta = 10.\n",
        "\n",
        "  while delta > theta:\n",
        "      v = V\n",
        "      #print(R + gamma*torch.einsum(\"bij,j->bi\", T, V))\n",
        "      V = torch.max(R + gamma*torch.einsum(\"bij,j->bi\", T, V),dim=0).values\n",
        "      #print('V',V)\n",
        "      #print('')\n",
        "      delta= torch.max(torch.abs(v-V)).item()\n",
        "\n",
        "  #get greedy policy\n",
        "  P = torch.max(R + gamma*torch.einsum(\"bij,j->bi\", T, V),dim=0).indices\n",
        "\n",
        "  return np.array(P),np.array(V)\n"
      ],
      "metadata": {
        "id": "nnKCXdqHW-bw"
      },
      "execution_count": 2,
      "outputs": []
    },
    {
      "cell_type": "markdown",
      "source": [
        "# River Swim Environment"
      ],
      "metadata": {
        "id": "fK1EXO7IaAO8"
      }
    },
    {
      "cell_type": "code",
      "source": [
        "def define_mdp():\n",
        "  \"\"\"River swim environment\n",
        "\n",
        "  from: https://papers.nips.cc/paper/2013/file/6a5889bb0190d0211a991f47bb19a777-Paper.pdf\n",
        "\n",
        "  \"\"\"\n",
        "  R=np.array([[5./1000,0,0,0,0,0],[0,0,0,0,0,1]])\n",
        "  num_states = len(R[0])\n",
        "\n",
        "  T_left = np.zeros((num_states,num_states))\n",
        "  T_left[0][0] = 1\n",
        "  for s in range(1,num_states):\n",
        "    T_left[s][s-1] = 1\n",
        "\n",
        "  T_right = .6*np.eye(num_states)\n",
        "  T_right[0][0] = .4\n",
        "  T_right[0][1] = .6\n",
        "\n",
        "  T_right[1][0] = .05\n",
        "  T_right[1][2] = .35\n",
        "\n",
        "  T_right[2][1] = .05\n",
        "  T_right[2][3] = .35\n",
        "\n",
        "  T_right[3][2] = .05\n",
        "  T_right[3][4] = .35\n",
        "\n",
        "  T_right[4][3] = .05\n",
        "  T_right[4][5] = .35\n",
        "\n",
        "  T_right[5][4] = .40\n",
        "\n",
        "  return [T_left,T_right],R"
      ],
      "metadata": {
        "id": "wKiz8fGyiBUq"
      },
      "execution_count": 3,
      "outputs": []
    },
    {
      "cell_type": "code",
      "source": [
        "T_list,R_list = define_mdp()"
      ],
      "metadata": {
        "id": "Hhg2WRv1VGd2"
      },
      "execution_count": 4,
      "outputs": []
    },
    {
      "cell_type": "code",
      "source": [
        "epsilon= .50\n",
        "gamma = .999 # true discount factor\n",
        "\n",
        "#average with zeros\n",
        "T_zeros = np.matrix(np.zeros((6,6)))\n",
        "T_reg_zeros = []\n",
        "for T_i in T_list:\n",
        "  T_reg_zeros.append((1-epsilon)*T_i + epsilon*T_zeros)\n",
        "\n",
        "#average with uniform\n",
        "T_unif = np.matrix([.10*np.ones(6) for i in range(6)])\n",
        "T_reg_unif = []\n",
        "for T_i in T_list:\n",
        "  T_reg_unif.append((1-epsilon)*T_i + epsilon*T_unif)\n",
        "\n",
        "p1,v1=value_iter(gamma,T_reg_unif,R_list)\n",
        "print(p1)\n",
        "print(v1)\n",
        "\n",
        "p2,v2=value_iter(gamma,T_reg_zeros,R_list)\n",
        "print(p2)\n",
        "print(v2)\n",
        "\n",
        "\n",
        "print(max(v1))\n",
        "print(max(v2))"
      ],
      "metadata": {
        "id": "q1oKGhu_WNwy",
        "colab": {
          "base_uri": "https://localhost:8080/"
        },
        "outputId": "755d328b-d4a6-4e1e-e146-4b92b7b3f9d0"
      },
      "execution_count": 5,
      "outputs": [
        {
          "output_type": "stream",
          "name": "stdout",
          "text": [
            "[0 1 1 1 1 1]\n",
            "[0.52028517 0.51679306 0.53489887 0.60792495 0.89786048 2.04882879]\n",
            "[0 1 1 1 1 1]\n",
            "[0.0108611  0.0066249  0.02422057 0.09691497 0.38672211 1.53767756]\n",
            "2.0488287903249605\n",
            "1.5376775648247358\n"
          ]
        }
      ]
    },
    {
      "cell_type": "code",
      "source": [
        "fig, ax = plt.subplots(2,1,figsize=(10,3), sharex=True,sharey=True)\n",
        "cbar_ax = fig.add_axes([0.95, .3, .03, .4])\n",
        "\n",
        "sns.heatmap(v1.reshape((1,6)), ax=ax[0], cbar= 0, vmin=0, vmax= 1.3, cbar_ax=None,linewidths=0.1, linecolor='white',cmap = 'coolwarm')\n",
        "sns.heatmap(v2.reshape((1,6)), ax=ax[1], cbar= 1, vmin=0, vmax= 1.3, cbar_ax=cbar_ax,linewidths=0.1, linecolor='white',cmap = 'coolwarm')\n",
        "\n",
        "#ax[0].set_title('Uniform')\n",
        "#ax[1].set_title('Discount')\n",
        "ax[0].set_ylabel(r\"Weighted\" \"\\n\" \"Avg. T\",fontsize=20,rotation=0)\n",
        "ax[1].set_ylabel(r\"Lower\" \"\\n\" \"Discount\",fontsize=20,rotation=0)\n",
        "ax[0].yaxis.set_label_coords(-0.085, 0.25)\n",
        "ax[1].yaxis.set_label_coords(-0.085, 0.25)\n",
        "ax[1].set_xlabel('State', labelpad=10,fontsize=24)\n",
        "ax[0].set_yticks([])\n",
        "ax[1].set_yticks([])\n",
        "ax[0].tick_params(axis=u'both', which=u'both',length=0)\n",
        "ax[1].tick_params(axis=u'both', which=u'both',length=0)\n",
        "#fig.tight_layout(rect=[0, 0, .9, 1])\n",
        "\n",
        "cbar_ax.tick_params(labelsize=16)\n",
        "cbar_ax.set_xlabel('Value',fontsize=22,labelpad=10)\n",
        "\n",
        "#arrows for policy\n",
        "ax[0].text(.25,.65,r\"$\\leftarrow$\",fontsize=35)\n",
        "ax[0].text(1.25,.65,r\"$\\rightarrow$\",fontsize=35)\n",
        "ax[0].text(2.25,.65,r\"$\\rightarrow$\",fontsize=35)\n",
        "ax[0].text(3.25,.65,r\"$\\rightarrow$\",fontsize=35)\n",
        "ax[0].text(4.25,.65,r\"$\\rightarrow$\",fontsize=35)\n",
        "ax[0].text(5.25,.65,r\"$\\rightarrow$\",fontsize=35)\n",
        "\n",
        "ax[1].text(.25,.65,r\"$\\leftarrow$\",fontsize=35)\n",
        "ax[1].text(1.25,.65,r\"$\\rightarrow$\",fontsize=35)\n",
        "ax[1].text(2.25,.65,r\"$\\rightarrow$\",fontsize=35)\n",
        "ax[1].text(3.25,.65,r\"$\\rightarrow$\",fontsize=35)\n",
        "ax[1].text(4.25,.65,r\"$\\rightarrow$\",fontsize=35)\n",
        "ax[1].text(5.25,.65,r\"$\\rightarrow$\",fontsize=35)\n",
        "\n",
        "plt.subplots_adjust(left=0.1,\n",
        "                    bottom=0.1,\n",
        "                    right=0.9,\n",
        "                    top=0.9,\n",
        "                    wspace=0.4,\n",
        "                    hspace=0.6)\n",
        "\n",
        "\n",
        "#plt.savefig(\"heatmap.pdf\",dpi=800,bbox_inches=\"tight\")"
      ],
      "metadata": {
        "colab": {
          "base_uri": "https://localhost:8080/",
          "height": 342
        },
        "id": "JY3PaV1Wbx7c",
        "outputId": "9a3d4649-fee5-4116-b467-e28a0389884c"
      },
      "execution_count": 6,
      "outputs": [
        {
          "output_type": "display_data",
          "data": {
            "text/plain": [
              "<Figure size 1000x300 with 3 Axes>"
            ],
            "image/png": "[encoded data removed]"
          },
          "metadata": {}
        }
      ]
    }
  ]
}