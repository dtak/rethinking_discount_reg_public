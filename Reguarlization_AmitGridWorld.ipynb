{
  "cells": [
    {
      "cell_type": "markdown",
      "source": [
        "Code to generate Figure 5(c) in 'Rethinking Discount Regularization'"
      ],
      "metadata": {
        "id": "UMUowUIO1HAf"
      }
    },
    {
      "cell_type": "code",
      "execution_count": null,
      "metadata": {
        "id": "200NBxRcAc37"
      },
      "outputs": [],
      "source": [
        "import numpy as np\n",
        "import matplotlib.pyplot as plt\n",
        "from pandas import DataFrame\n",
        "#import seaborn as sns\n",
        "import torch\n",
        "from matplotlib.ticker import FormatStrFormatter\n",
        "from matplotlib.ticker import MaxNLocator\n",
        "from matplotlib.ticker import PercentFormatter\n",
        "import pickle"
      ]
    },
    {
      "cell_type": "code",
      "execution_count": null,
      "metadata": {
        "colab": {
          "base_uri": "https://localhost:8080/"
        },
        "id": "IXC0CSrSNNov",
        "outputId": "e8fd7faf-a5b5-4dbf-ae3c-2a7d691a93f3"
      },
      "outputs": [
        {
          "output_type": "stream",
          "name": "stdout",
          "text": [
            "Mounted at /content/gdrive\n"
          ]
        }
      ],
      "source": [
        "from google.colab import drive\n",
        "drive.mount('/content/gdrive')"
      ]
    },
    {
      "cell_type": "markdown",
      "metadata": {
        "id": "jbPD3RdJa-bi"
      },
      "source": [
        "## Define MDP"
      ]
    },
    {
      "cell_type": "code",
      "execution_count": null,
      "metadata": {
        "id": "coFK05KSCHBT"
      },
      "outputs": [],
      "source": [
        "def in_bounds(coords,grid_xdim,grid_ydim):\n",
        "\n",
        "  \"\"\"Helper function for define_mdp\n",
        "\n",
        "  If hit wall, do not move.\n",
        "\n",
        "  \"\"\"\n",
        "\n",
        "  #if coords [row,col]\n",
        "  if coords[0] > grid_xdim - 1:\n",
        "    coords[0] = grid_xdim -1\n",
        "  elif coords[0] < 0:\n",
        "    coords[0] = 0\n",
        "\n",
        "  if coords[1] > grid_ydim - 1:\n",
        "    coords[1] = grid_ydim-1\n",
        "  elif coords[1] < 0:\n",
        "    coords[1] = 0\n",
        "\n",
        "  return coords"
      ]
    },
    {
      "cell_type": "code",
      "execution_count": null,
      "metadata": {
        "id": "5YjxTwARCY3U"
      },
      "outputs": [],
      "source": [
        "def define_mdp():\n",
        "  \"\"\" GridWorld Environment\n",
        "\n",
        "  * from http://proceedings.mlr.press/v119/amit20a/amit20a-supp.pdf\n",
        "  * if hit wall, do not move\n",
        "\n",
        "  modification: random state instaed of stay\n",
        "\n",
        "  \"\"\"\n",
        "  grid_xdim = 4\n",
        "  grid_ydim = 4\n",
        "  num_states = grid_xdim*grid_ydim\n",
        "\n",
        "  #actions\n",
        "  actions = {\n",
        "    'N': np.array([-1,0]),\n",
        "    'S': np.array([1, 0]),\n",
        "    'E': np.array([0, 1]),\n",
        "    'W': np.array([0, -1]),\n",
        "    }\n",
        "  num_actions = len(actions)\n",
        "\n",
        "\n",
        "  #transition matrix\n",
        "  T = np.zeros((num_actions,num_states,num_states))\n",
        "  for s in range(num_states):\n",
        "\n",
        "    p_s = np.random.uniform(0,1)\n",
        "\n",
        "    #convert to x,y coords\n",
        "    s_coords = np.unravel_index(s,(grid_xdim,grid_ydim))\n",
        "\n",
        "    #North = action 0\n",
        "    s_prime_coords = in_bounds(s_coords + actions['N'],grid_xdim,grid_ydim)  # get coords of next state\n",
        "    # convert to number\n",
        "    s_prime = np.ravel_multi_index(tuple(s_prime_coords),(grid_xdim,grid_ydim))\n",
        "    T[0,s,s_prime] += p_s\n",
        "    s_random = np.random.randint(0,num_states-1)\n",
        "    T[0,s,s_random] += 1-p_s\n",
        "\n",
        "    #S = action 1\n",
        "    s_prime_coords = in_bounds(s_coords + actions['S'],grid_xdim,grid_ydim)  # get coords of next state\n",
        "    # convert to number\n",
        "    s_prime = np.ravel_multi_index(tuple(s_prime_coords),(grid_xdim,grid_ydim))\n",
        "    T[1,s,s_prime] += p_s\n",
        "    s_random = np.random.randint(0,num_states-1)\n",
        "    T[1,s,s_random] += 1-p_s\n",
        "\n",
        "    #E = action 2\n",
        "    s_prime_coords = in_bounds(s_coords + actions['E'],grid_xdim,grid_ydim)  # get coords of next state\n",
        "    # convert to number\n",
        "    s_prime = np.ravel_multi_index(tuple(s_prime_coords),(grid_xdim,grid_ydim))\n",
        "    T[2,s,s_prime] += p_s\n",
        "    s_random = np.random.randint(0,num_states-1)\n",
        "    T[2,s,s_random] += 1-p_s\n",
        "\n",
        "\n",
        "    #W = action 3\n",
        "    s_prime_coords = in_bounds(s_coords + actions['W'],grid_xdim,grid_ydim)  # get coords of next state\n",
        "    # convert to number\n",
        "    s_prime = np.ravel_multi_index(tuple(s_prime_coords),(grid_xdim,grid_ydim))\n",
        "    T[3,s,s_prime] += p_s\n",
        "    s_random = np.random.randint(0,num_states-1)\n",
        "    T[3,s,s_random] += 1-p_s\n",
        "\n",
        "  #define Reward function\n",
        "  high_r_state = np.random.choice(16,replace=False)\n",
        "  R = np.zeros(num_states)\n",
        "  for r in range(num_states):\n",
        "    if r==high_r_state:\n",
        "      R[r]=1\n",
        "    else:\n",
        "      R[r] = np.random.uniform(-.5,.5)\n",
        "\n",
        "  return T,R\n",
        "\n",
        "#t,r = define_mdp()"
      ]
    },
    {
      "cell_type": "markdown",
      "metadata": {
        "id": "VX_IGfr_bCTC"
      },
      "source": [
        "## Dynamic Programming"
      ]
    },
    {
      "cell_type": "code",
      "execution_count": null,
      "metadata": {
        "id": "vrPledUQCcDv"
      },
      "outputs": [],
      "source": [
        "def eval_policy(gamma,policy,T_list,R_list,theta):\n",
        "  \"\"\"Policy evaluation\n",
        "  \"\"\"\n",
        "\n",
        "  num_states = T_list[0].shape[0]\n",
        "\n",
        "  index = list(zip(policy,range(num_states)))\n",
        "  #T=[]\n",
        "  #for t in T_list:\n",
        "  #    T.append(t.tolist())\n",
        "\n",
        "  T_pi = np.matrix([T_list[i][j] for (i,j) in index])\n",
        "  R_pi = np.transpose(np.matrix(R_list))\n",
        "\n",
        "  #value = np.dot(np.linalg.inv(np.eye(num_states)-gamma*T_pi),`R_pi)\n",
        "  #value = np.linalg.solve(np.eye(num_states)-gamma*T_pi,np.eye(num_states))@R_pi\n",
        "  value = np.linalg.solve(np.eye(num_states)-gamma*T_pi,R_pi)\n",
        "\n",
        "  return value\n",
        "\n",
        "def value_iter(gamma, T_list,R_list, theta = .0001):\n",
        "  \"\"\"Value Iteration\n",
        "  \"\"\"\n",
        "  num_states = len(R_list)\n",
        "\n",
        "  T = torch.tensor(np.array([np.array(x) for x in T_list]))\n",
        "  R = torch.tensor(np.array(R_list))\n",
        "\n",
        "\n",
        "  #V = torch.tensor(np.zeros(10))\n",
        "  V = torch.tensor(np.random.uniform(0,1,num_states))\n",
        "  delta = 10.\n",
        "\n",
        "  while delta > theta:\n",
        "      v = V\n",
        "      V = torch.max(R + gamma*torch.einsum(\"bij,j->bi\", T, V),dim=0).values\n",
        "      delta= torch.max(torch.abs(v-V)).item()\n",
        "\n",
        "\n",
        "  #get greedy policy\n",
        "  P = torch.max(R + gamma*torch.einsum(\"bij,j->bi\", T, V),dim=0).indices\n",
        "\n",
        "  return P.tolist(),np.transpose(np.matrix(V))\n"
      ]
    },
    {
      "cell_type": "markdown",
      "metadata": {
        "id": "rEnyWEJybFSZ"
      },
      "source": [
        "## Generate Data Set"
      ]
    },
    {
      "cell_type": "code",
      "execution_count": null,
      "metadata": {
        "id": "4ztlEwWyCdZB"
      },
      "outputs": [],
      "source": [
        "# sample data from MDP\n",
        "#generate trajectories starting at S\n",
        "\n",
        "def gen_trajectory(T_list,R_list,start_state_weights,action_weights,len_traj):\n",
        "\n",
        "    num_states = T_list[0].shape[0]\n",
        "    num_actions = len(T_list)\n",
        "    all_actions = range(num_actions)\n",
        "\n",
        "    traj = []\n",
        "    obs_rewards = [ [] for i in range(num_states)]\n",
        "\n",
        "    actions = []\n",
        "\n",
        "    all_states = range(num_states)\n",
        "    state = np.random.choice(all_states,1,True,start_state_weights)[0]  # start at random state with uniform prob\n",
        "    traj.append(state)\n",
        "\n",
        "    while len(traj)<len_traj:\n",
        "\n",
        "        # choose random action\n",
        "        action = np.random.choice(all_actions,p=action_weights)\n",
        "        actions.append(action)\n",
        "\n",
        "        for a in all_actions:\n",
        "            if action == a:\n",
        "                t_probs = T_list[a][state].tolist()\n",
        "        cum_tprobs = np.cumsum(t_probs)\n",
        "        rand_num = np.random.uniform()\n",
        "        for j in range(num_states):\n",
        "            if rand_num < cum_tprobs[j]:\n",
        "                state = j\n",
        "                break\n",
        "        traj.append(state)\n",
        "\n",
        "        rew_stdev = .1*abs(R_list[state])\n",
        "        obs_rewards[state].append(np.random.normal(R_list[state],rew_stdev))\n",
        "\n",
        "    return actions,traj,obs_rewards\n",
        "\n",
        "\n",
        "#gen dataset of trajectories\n",
        "def gen_data(num_traj,T_list,R_list,start_state_weights,len_traj,exact=False):\n",
        "\n",
        "    #num_traj is number of trajectories in the data set TOTAL\n",
        "\n",
        "    num_states = T_list[0].shape[0]\n",
        "    num_actions = len(T_list)\n",
        "    all_actions = range(num_actions)\n",
        "\n",
        "    sa_count_list = []\n",
        "    for a in all_actions:\n",
        "        sa_count_list.append(np.zeros((num_states,num_states)))\n",
        "\n",
        "    r_counts = [ [] for i in range(num_states)]\n",
        "\n",
        "    act_weights = [1./num_actions for n in range(num_actions)]\n",
        "\n",
        "    if exact == False:\n",
        "\n",
        "        for i in range(num_traj):\n",
        "            actions,traj,rew = gen_trajectory(T_list,R_list,start_state_weights,act_weights,len_traj)\n",
        "\n",
        "            for j in range(len(actions)):\n",
        "                state_1 = traj[j]\n",
        "                state_2 = traj[j+1]\n",
        "                action = actions[j]\n",
        "\n",
        "                for a in all_actions:\n",
        "                    if action == a:\n",
        "                        sa_count_list[a][state_1,state_2]+=1\n",
        "\n",
        "            r_counts = [m+n for m,n in zip(rew,r_counts)]\n",
        "\n",
        "    else:\n",
        "        start_state_nums = [int(u*num_traj/num_actions) for u in start_state_weights]\n",
        "        for state in range(num_states):\n",
        "\n",
        "            start_state_weights_exact= np.zeros(num_states)\n",
        "            start_state_weights_exact[state] = 1\n",
        "\n",
        "            for a in range(num_actions):\n",
        "                act_weights = np.zeros(len(T_list))\n",
        "                act_weights[a] = 1\n",
        "\n",
        "                for j in range(start_state_nums[state]):\n",
        "                    actions,traj,rew = gen_trajectory(T_list,R_list,start_state_weights_exact,act_weights,len_traj)\n",
        "                    for j in range(len(actions)):\n",
        "                        state_1 = traj[j]\n",
        "                        state_2 = traj[j+1]\n",
        "                        action = actions[j]\n",
        "\n",
        "                        for a in all_actions:\n",
        "                            if action == a:\n",
        "                                sa_count_list[a][state_1,state_2]+=1\n",
        "\n",
        "                    r_counts = [m+n for m,n in zip(rew,r_counts)]\n",
        "\n",
        "    for a in all_actions:\n",
        "        sa_count_list[a] = np.matrix(sa_count_list[a])\n",
        "\n",
        "    return sa_count_list,r_counts"
      ]
    },
    {
      "cell_type": "markdown",
      "metadata": {
        "id": "UxxPzDF2bw8p"
      },
      "source": [
        "## Estimate MDP"
      ]
    },
    {
      "cell_type": "code",
      "execution_count": null,
      "metadata": {
        "id": "Ga_wZTl0Cd9x"
      },
      "outputs": [],
      "source": [
        "#Estimate MDP\n",
        "# default T if no data: uniform\n",
        "# default R if no data: 0\n",
        "\n",
        "def mle_estimate_mdp(count_matrix_list,rew_list):\n",
        "\n",
        "    num_states = count_matrix_list[0].shape[0]\n",
        "    all_actions = range(len(count_matrix_list))\n",
        "\n",
        "    #estimate transition matrix from data\n",
        "\n",
        "    #assume equal probability to all states as default if no data\n",
        "    default = (1./num_states)*np.ones(num_states)\n",
        "\n",
        "    T_hat_list = []\n",
        "    for a in all_actions:\n",
        "        T_hat_list.append(np.zeros((num_states,num_states))) #transition matrix under action a\n",
        "\n",
        "    for i in range(num_states):\n",
        "\n",
        "        for act in all_actions:\n",
        "            sum_act = count_matrix_list[act][i].sum(axis=1)\n",
        "\n",
        "            if sum_act == 0: # never visited state i and took action \"act\"\n",
        "                T_hat_list[act][i] = default\n",
        "            else:\n",
        "                T_hat_list[act][i] = (1./sum_act)*count_matrix_list[act][i]\n",
        "\n",
        "    #estimate reward from data\n",
        "    R_hat = [np.average(r) for r in rew_list]\n",
        "    R_hat = np.where(np.isnan(R_hat),0,R_hat) #assume R_hat = 0 if no data for state\n",
        "\n",
        "    for a in all_actions:\n",
        "        T_hat_list[a] = np.matrix(T_hat_list[a])\n",
        "\n",
        "    return T_hat_list,R_hat"
      ]
    },
    {
      "cell_type": "markdown",
      "metadata": {
        "id": "ZKOg7KiKb1Ga"
      },
      "source": [
        "## Regularization"
      ]
    },
    {
      "cell_type": "code",
      "execution_count": null,
      "metadata": {
        "id": "pdNYaaELCgFb"
      },
      "outputs": [],
      "source": [
        "#create regularized estimates\n",
        "\n",
        "def epsilon_greedy(eps,T_hat_list):\n",
        "    T_reg_list = []\n",
        "    num_actions = len(T_hat_list)\n",
        "    T_eg = (1./num_actions)*sum(T_hat_list)  #average of all actions, for epsilon-stochastic\n",
        "    for T_hat in T_hat_list:\n",
        "        T_reg_list.append((1-eps)*T_hat + eps*T_eg)\n",
        "    return T_reg_list\n",
        "\n",
        "def uniform_prior(eps,sa_count_list):\n",
        "    T_unif_list = []\n",
        "    num_states = sa_count_list[0].shape[0]\n",
        "    num_actions = len(sa_count_list)\n",
        "    unif_prior = np.ones((num_states,num_states))\n",
        "\n",
        "    total_sa_count = 0\n",
        "    for sa_count in sa_count_list:\n",
        "      total_sa_count += np.sum(sa_count)\n",
        "    avg_count = total_sa_count/(num_states*num_actions)\n",
        "    mag = eps/(1-eps)*avg_count/num_states\n",
        "\n",
        "    for sa_count in sa_count_list:\n",
        "        if eps == 1:\n",
        "            alpha_post = 0*sa_count+unif_prior\n",
        "        else:\n",
        "            alpha_post = sa_count + mag*unif_prior\n",
        "\n",
        "        T_post = np.zeros((num_states,num_states))\n",
        "        default = (1./num_states)*np.ones(num_states) #uniform default, as above\n",
        "        for i in range(num_states):\n",
        "            sum_state = (alpha_post[i].sum(axis=1)).item()\n",
        "            if sum_state == 0: # never visited state i and took action \"act\"\n",
        "                T_post[i] = default\n",
        "            else:\n",
        "                T_post[i] = (1./sum_state)*alpha_post[i]\n",
        "        T_unif_list.append(T_post)\n",
        "\n",
        "    return T_unif_list\n"
      ]
    },
    {
      "cell_type": "markdown",
      "metadata": {
        "id": "uv98szgib4Mq"
      },
      "source": [
        "### State-specific Regularization"
      ]
    },
    {
      "cell_type": "code",
      "execution_count": null,
      "metadata": {
        "id": "OjBcqPRrcNFh"
      },
      "outputs": [],
      "source": [
        "def epsilon_star_unif(T_sa,num_samples):\n",
        "  \"\"\"Calculate optimal value of epsilon for uniform prior\n",
        "\n",
        "  Optimal epsilon if we knew true value of T\n",
        "\n",
        "  \"\"\"\n",
        "  num_states = len(T_sa)\n",
        "  numerator = 0\n",
        "  denominator = 0\n",
        "  for s_prime in range(num_states):\n",
        "    numerator += (1./num_samples)*T_sa[s_prime]*(1-T_sa[s_prime])\n",
        "    denominator += ((1./num_samples)*T_sa[s_prime]*(1-T_sa[s_prime]) + T_sa[s_prime]**2 - 2/num_states*T_sa[s_prime] + 1/(num_states**2))\n",
        "  return numerator/denominator"
      ]
    },
    {
      "cell_type": "code",
      "execution_count": null,
      "metadata": {
        "id": "94esu0FBc_1x"
      },
      "outputs": [],
      "source": [
        "def mse_unif(T_sa,epsilon,num_samples):\n",
        "  mse = 0\n",
        "  num_states = len(T_sa)\n",
        "  for s_prime in range(num_states):\n",
        "    mse += (1-epsilon)**2*(1/num_samples)*T_sa[s_prime]*(1-T_sa[s_prime])+epsilon**2*((1/num_states)-T_sa[s_prime])**2\n",
        "\n",
        "  return mse"
      ]
    },
    {
      "cell_type": "code",
      "execution_count": null,
      "metadata": {
        "id": "kDE3djn8cPJq"
      },
      "outputs": [],
      "source": [
        "def epsilon_star_hat_unif(sa_count_list):\n",
        "\n",
        "  \"\"\"Calculate optimal value of epsilon for uniform prior\n",
        "\n",
        "  Optimal epsilon for single s-a pair for when we do not know true T\n",
        "\n",
        "  \"\"\"\n",
        "  prior_mag = .25\n",
        "  epsilon_list = np.linspace(0,1,100)\n",
        "  num_resamples = 100\n",
        "\n",
        "  max_mse_by_eps = []\n",
        "  mean_mse_by_eps = []\n",
        "  mse = 0\n",
        "  num_samples = sum(sa_count_list)\n",
        "\n",
        "  #define posterior. T_sa ~ dirichlet(alpha)\n",
        "  scale = 100 #need to set this!\n",
        "  alpha = tuple(x+prior_mag for x in sa_count_list)\n",
        "  for e in epsilon_list:\n",
        "\n",
        "    mse_list = []\n",
        "    for n in range(num_resamples):\n",
        "\n",
        "      #sample new T-hat from posterior\n",
        "      T_samp = np.random.dirichlet(alpha)\n",
        "\n",
        "      #calc MSE\n",
        "      try:\n",
        "        mse = mse_unif(T_samp,e,num_samples)\n",
        "      except:\n",
        "        mse = mse_unif(T_samp,e,1)\n",
        "      mse_list.append(mse)\n",
        "\n",
        "    #max_mse_by_eps.append(max(mse_list))\n",
        "    mean_mse_by_eps.append(np.mean(mse_list))\n",
        "\n",
        "  #min_index = max_mse_by_eps.index(min(max_mse_by_eps))\n",
        "  min_index = mean_mse_by_eps.index(min(mean_mse_by_eps))\n",
        "\n",
        "  return epsilon_list[min_index]"
      ]
    },
    {
      "cell_type": "code",
      "execution_count": null,
      "metadata": {
        "id": "ntCfF3S6dXwC"
      },
      "outputs": [],
      "source": [
        "def T_reg_unif_per_state(T_mle_list,sa_count_list,cross_validate=False):\n",
        "\n",
        "  num_states = T_mle_list[0].shape[0]\n",
        "  num_actions = len(T_mle_list)\n",
        "  T_reg_list = []\n",
        "  T_unif = (1./num_states)*np.ones(num_states)\n",
        "\n",
        "  T_sa_reg_list = [] #list of regularized transition matrixes for each action\n",
        "  for a in range(num_actions):\n",
        "    T_sa_reg = [] #action a regularized matrix\n",
        "    num_samples_a = sa_count_list[a].sum(axis=1).tolist()\n",
        "    for row_num in range(num_states):\n",
        "      #print('state',row_num)\n",
        "      num_sa_samples = num_samples_a[row_num][0]\n",
        "      if cross_validate==True:\n",
        "        eps_sa = epsilon_star_hat_unif(sa_count_list[a].tolist()[row_num])\n",
        "        #print('eps_sa',eps_sa)\n",
        "      else:\n",
        "        try:\n",
        "          eps_sa = epsilon_star_unif(T_mle_list[a].tolist()[row_num],num_sa_samples)\n",
        "          #print('eps_sa',eps_sa)\n",
        "        except:\n",
        "          eps_sa = 1\n",
        "          #print('no data')\n",
        "\n",
        "      T_sa_reg.append([(1-eps_sa)*x + eps_sa*y for (x,y) in zip(T_mle_list[a].tolist()[row_num],T_unif)])\n",
        "    T_sa_reg_list.append(np.matrix(T_sa_reg))\n",
        "\n",
        "  return T_sa_reg_list"
      ]
    },
    {
      "cell_type": "code",
      "execution_count": null,
      "metadata": {
        "id": "k1QuQ0rnaB8X"
      },
      "outputs": [],
      "source": [
        "def T_reg_unif_per_state_trueT(T_list,T_mle_list,sa_count_list):\n",
        "\n",
        "  \"\"\"State-specific regularization calculating epsilon* using true T\n",
        "\n",
        "  (Theoretical minimum loss using our method)\n",
        "\n",
        "  \"\"\"\n",
        "  num_states = T_list[0].shape[0]\n",
        "  num_actions = len(T_list)\n",
        "  T_reg_list = []\n",
        "  T_unif = (1./num_states)*np.ones(num_states)\n",
        "\n",
        "  T_sa_reg_list = [] #list of regularized transition matrixes for each action\n",
        "  for a in range(num_actions):\n",
        "    T_sa_reg = [] #action a regularized matrix\n",
        "    num_samples_a = sa_count_list[a].sum(axis=1).tolist()\n",
        "    for row_num in range(num_states):\n",
        "      num_sa_samples = num_samples_a[row_num][0]\n",
        "      if num_sa_samples > 0:\n",
        "        eps_sa = epsilon_star_unif(T_list[a].tolist()[row_num],num_sa_samples)\n",
        "      else:\n",
        "        eps_sa = 1\n",
        "\n",
        "      T_sa_reg.append([(1-eps_sa)*x + eps_sa*y for (x,y) in zip(T_mle_list[a].tolist()[row_num],T_unif)])\n",
        "    T_sa_reg_list.append(np.matrix(T_sa_reg))\n",
        "\n",
        "  return T_sa_reg_list"
      ]
    },
    {
      "cell_type": "markdown",
      "metadata": {
        "id": "mnDIliJgcFxx"
      },
      "source": [
        "## Loss by epsilon for Plot"
      ]
    },
    {
      "cell_type": "code",
      "execution_count": null,
      "metadata": {
        "id": "4rOTlbXjCg8r"
      },
      "outputs": [],
      "source": [
        "def calc_loss(epsilon_list, num_traj=5, len_traj = 2,num_datasets=100):\n",
        "\n",
        "    gamma_eval = 0.99\n",
        "    theta = .01\n",
        "\n",
        "    T_list,R_list = define_mdp()\n",
        "\n",
        "    num_states = len(R_list)\n",
        "    start_state_weights_data = (1./num_states)*np.ones(num_states)\n",
        "    start_state_weights = (1./num_states)*np.ones(num_states) #evalulation\n",
        "\n",
        "\n",
        "    #store loss for each value of epsilon\n",
        "    loss_dict_disc = {} #discount regularization\n",
        "    #loss_dict_eg = {} #epsilon-greedy regularization\n",
        "    loss_dict_unif = {} #uniform prior\n",
        "    for e in epsilon_list:\n",
        "        loss_dict_disc[e] = [] #discountf regularization\n",
        "        #loss_dict_eg[e] = [] #epsilon-greedy regularization\n",
        "        loss_dict_unif[e] = [] #uniform prior\n",
        "\n",
        "    loss for state-specfic\n",
        "    loss_list_unif_ss_cv = []\n",
        "    loss_list_unif_ss_trueT = []\n",
        "\n",
        "    for n in range(num_datasets):\n",
        "\n",
        "        T_list,R_list = define_mdp()\n",
        "\n",
        "        #true optimal policy\n",
        "        p,v = value_iter(gamma_eval,T_list,R_list,theta)\n",
        "\n",
        "        #data set of trajectories\n",
        "        sa_count_list,r_counts = gen_data(num_traj,T_list=T_list,R_list=R_list,start_state_weights=start_state_weights_data,len_traj=len_traj,exact=False)\n",
        "\n",
        "        T_mle_list,R_mle = mle_estimate_mdp(sa_count_list,r_counts)\n",
        "\n",
        "        #state specific epsilon losses - unif WITH CV\n",
        "        T_unif_ss_list = T_reg_unif_per_state(T_mle_list,sa_count_list,cross_validate=True)\n",
        "        p_unif_ss,v_unif_ss = value_iter(gamma_eval,T_unif_ss_list,R_list)\n",
        "        v_unif_ss = eval_policy(gamma_eval,p_unif_ss,T_list,R_list,theta) #calculate value of policy in true MDP\n",
        "        loss_unif_ss = v - v_unif_ss\n",
        "        loss_unif_ss_flattened = [item.item() for sublist in loss_unif_ss for item in sublist]\n",
        "        loss_unif_ss = np.average(loss_unif_ss_flattened,axis=None,weights=start_state_weights)\n",
        "        loss_list_unif_ss_cv.append(loss_unif_ss)\n",
        "\n",
        "        #state specific - Using true T to get theoretical min loss\n",
        "        T_unif_ss_list2 = T_reg_unif_per_state_trueT(T_list,T_mle_list,sa_count_list)\n",
        "        p_unif_ss2,v_unif_ss2 = value_iter(gamma_eval,T_unif_ss_list2,R_list)\n",
        "        v_unif_ss2 = eval_policy(gamma_eval,p_unif_ss2,T_list,R_list,theta) #calculate value of policy in true MDP\n",
        "        loss_unif_ss2 = v - v_unif_ss2\n",
        "        loss_unif_ss_flattened2 = [item.item() for sublist in loss_unif_ss2 for item in sublist]\n",
        "        loss_unif_ss2 = np.average(loss_unif_ss_flattened2,axis=None,weights=start_state_weights)\n",
        "        loss_list_unif_ss_trueT.append(loss_unif_ss2)\n",
        "\n",
        "\n",
        "        for e in epsilon_list:\n",
        "\n",
        "            T_hat_eg = epsilon_greedy(e,T_mle_list)\n",
        "            T_hat_unif = uniform_prior(e,sa_count_list)\n",
        "\n",
        "            #calculate optimal policy and its value for regularized MDPs\n",
        "            #assume R known\n",
        "            p_disc,v_disc = value_iter((1-e)*gamma_eval,T_mle_list,R_list,theta)\n",
        "            p_eg,v_eg = value_iter(gamma_eval,T_hat_eg,R_list,theta)\n",
        "            p_unif,v_unif = value_iter(gamma_eval,T_hat_unif,R_list,theta)\n",
        "\n",
        "\n",
        "            #calculate value of policies above using true MDP\n",
        "            v_disc = eval_policy(gamma_eval,p_disc,T_list,R_list,theta)\n",
        "            v_eg = eval_policy(gamma_eval,p_eg,T_list,R_list,theta)\n",
        "            v_unif = eval_policy(gamma_eval,p_unif,T_list,R_list,theta)\n",
        "\n",
        "            #loss = expected value over starting state distrib\n",
        "            loss_disc = v - v_disc\n",
        "            loss_disc_flattened = [item.item() for sublist in loss_disc for item in sublist]\n",
        "            loss_eg = v - v_eg\n",
        "            #loss_eg_flattened = [item.item() for sublist in loss_eg for item in sublist]\n",
        "            loss_unif = v - v_unif\n",
        "            loss_unif_flattened = [item.item() for sublist in loss_unif for item in sublist]\n",
        "\n",
        "            loss_dict_disc[e].append(np.average(loss_disc_flattened,axis=None,weights=start_state_weights))\n",
        "            #loss_dict_eg[e].append(np.average(loss_eg_flattened,axis=None,weights=start_state_weights))\n",
        "            loss_dict_unif[e].append(np.average(loss_unif_flattened,axis=None,weights=start_state_weights))\n",
        "\n",
        "        if n%10==0:\n",
        "          print(n)\n",
        "          #save off current results\n",
        "          with open('/content/gdrive/My Drive/RegularizationJournalPlots/amit_loss_dict_disc_18len2.pkl', 'wb') as f:\n",
        "            pickle.dump(loss_dict_disc, f)\n",
        "          with open('/content/gdrive/My Drive/RegularizationJournalPlots/amit_loss_dict_unif_18len2.pkl', 'wb') as f:\n",
        "            pickle.dump(loss_dict_unif, f)\n",
        "          with open('/content/gdrive/My Drive/RegularizationJournalPlots/amit_loss_list_unif_ss_cv_18len2.pkl', 'wb') as f:\n",
        "            pickle.dump(loss_list_unif_ss_cv, f)\n",
        "          with open('/content/gdrive/My Drive/RegularizationJournalPlots/amit_loss_list_unif_ss_trueT_18len2.pkl', 'wb') as f:\n",
        "            pickle.dump(loss_list_unif_ss_trueT, f)\n",
        "\n",
        "    #mean loss\n",
        "    mean_loss_disc = []\n",
        "    #mean_loss_eg = []\n",
        "    mean_loss_unif = []\n",
        "    for e in epsilon_list:\n",
        "        mean_loss_disc.append(np.mean(loss_dict_disc[e]))\n",
        "        #mean_loss_eg.append(np.mean(loss_dict_eg[e]))\n",
        "        mean_loss_unif.append(np.mean(loss_dict_unif[e]))\n",
        "\n",
        "    #stdev loss of MEAN loss\n",
        "    stdev_loss_disc = []\n",
        "    #stdev_loss_eg = []\n",
        "    stdev_loss_unif = []\n",
        "    for e in epsilon_list:\n",
        "        stdev_loss_disc.append(np.std(loss_dict_disc[e])/np.sqrt(num_datasets))\n",
        "        #stdev_loss_eg.append(np.std(loss_dict_eg[e])/np.sqrt(num_datasets))\n",
        "        stdev_loss_unif.append(np.std(loss_dict_unif[e])/np.sqrt(num_datasets))\n",
        "\n",
        "    mean_ss_cv = np.mean(loss_list_unif_ss_cv)\n",
        "    stdev_ss_cv = np.std(loss_list_unif_ss_cv)/np.sqrt(num_datasets)\n",
        "    mean_ss_trueT = np.mean(loss_list_unif_ss_trueT)\n",
        "    stdev_ss_trueT = np.std(loss_list_unif_ss_trueT)/np.sqrt(num_datasets)\n",
        "\n",
        "    with open('/content/gdrive/My Drive/RegularizationJournalPlots/amit_loss_dict_disc_18len2.pkl', 'wb') as f:\n",
        "      pickle.dump(loss_dict_disc, f)\n",
        "    with open('/content/gdrive/My Drive/RegularizationJournalPlots/amit_loss_dict_unif_18len2.pkl', 'wb') as f:\n",
        "      pickle.dump(loss_dict_unif, f)\n",
        "    with open('/content/gdrive/My Drive/RegularizationJournalPlots/amit_loss_list_unif_ss_cv_18len2.pkl', 'wb') as f:\n",
        "      pickle.dump(loss_list_unif_ss_cv, f)\n",
        "    with open('/content/gdrive/My Drive/RegularizationJournalPlots/amit_loss_list_unif_ss_trueT_18len2.pkl', 'wb') as f:\n",
        "      pickle.dump(loss_list_unif_ss_trueT, f)\n",
        "\n",
        "    return mean_loss_disc,mean_loss_unif,stdev_loss_disc,stdev_loss_unif,mean_ss_cv,stdev_ss_cv,mean_ss_trueT,stdev_ss_trueT"
      ]
    },
    {
      "cell_type": "markdown",
      "metadata": {
        "id": "W5tRh-B_jmiY"
      },
      "source": [
        "# Figure for paper"
      ]
    },
    {
      "cell_type": "code",
      "source": [
        "epsilon_list = [0,.1,.2,.3,.4,.5,.6,.7,.8,.9,.95,.99]\n",
        "num_datasets = 5000\n",
        "\n",
        "len_traj = 2\n",
        "num_traj = 18\n",
        "\n",
        "mean_loss_disc,mean_loss_unif,stdev_loss_disc,stdev_loss_unif,mean_ss_cv,stdev_ss_cv,mean_ss_trueT,stdev_ss_trueT = calc_loss(epsilon_list,num_traj,len_traj,num_datasets)"
      ],
      "metadata": {
        "id": "zfEuQrO31q1-"
      },
      "execution_count": null,
      "outputs": []
    },
    {
      "cell_type": "code",
      "source": [
        "with open('/content/gdrive/My Drive/RegularizationJournalPlots/amit_loss_dict_disc_18len2.pkl', 'rb') as f:\n",
        "  loss_dict_disc = pickle.load(f)\n",
        "with open('/content/gdrive/My Drive/RegularizationJournalPlots/amit_loss_dict_unif_18len2.pkl', 'rb') as f:\n",
        "  loss_dict_unif = pickle.load(f)\n",
        "with open('/content/gdrive/My Drive/RegularizationJournalPlots/amit_loss_list_unif_ss_cv_18len2.pkl', 'rb') as f:\n",
        "  loss_list_unif_ss_cv = pickle.load(f)\n",
        "with open('/content/gdrive/My Drive/RegularizationJournalPlots/amit_loss_list_unif_ss_trueT_18len2.pkl', 'rb') as f:\n",
        "  loss_list_unif_ss_trueT = pickle.load(f)\n",
        "  print(len(loss_list_unif_ss_trueT))"
      ],
      "metadata": {
        "id": "YVIcSN3N2sEI"
      },
      "execution_count": null,
      "outputs": []
    },
    {
      "cell_type": "code",
      "execution_count": null,
      "metadata": {
        "id": "HoskU0jwQI-_"
      },
      "outputs": [],
      "source": [
        "epsilon_list = [0,.1,.2,.3,.4,.5,.6,.7,.8,.9,.95,.99]\n",
        "num_ds = len(loss_list_unif_ss_trueT)\n",
        "\n",
        "#mean loss\n",
        "mean_loss_disc = []\n",
        "mean_loss_unif = []\n",
        "stdev_loss_disc = []\n",
        "stdev_loss_unif = []\n",
        "for e in epsilon_list:\n",
        "  mean_loss_disc.append(np.mean(loss_dict_disc[e][:num_ds]))\n",
        "  stdev_loss_disc.append(np.std(loss_dict_disc[e][:num_ds])/np.sqrt(num_ds))\n",
        "  mean_loss_unif.append(np.mean(loss_dict_unif[e][:num_ds]))\n",
        "  stdev_loss_unif.append(np.std(loss_dict_unif[e][:num_ds])/np.sqrt(num_ds))\n",
        "\n",
        "#mean state-specific\n",
        "mean_ss_cv = np.mean(loss_list_unif_ss_cv[:num_ds])\n",
        "mean_ss_trueT = np.mean(loss_list_unif_ss_trueT[:num_ds])\n",
        "\n",
        "#stdev state-specific\n",
        "stdev_ss_cv = np.std(loss_list_unif_ss_cv[:num_ds])/np.sqrt(num_ds)\n",
        "stdev_ss_trueT = np.std(loss_list_unif_ss_trueT[:num_ds])/np.sqrt(num_ds)"
      ]
    },
    {
      "cell_type": "code",
      "execution_count": null,
      "metadata": {
        "id": "yaFcTIAVQMEH",
        "colab": {
          "base_uri": "https://localhost:8080/",
          "height": 759
        },
        "outputId": "ba74c921-27a7-4e4f-a735-abaffef39509"
      },
      "outputs": [
        {
          "output_type": "display_data",
          "data": {
            "text/plain": [
              "<Figure size 1600x1200 with 1 Axes>"
            ],
            "image/png": "[encoded data removed]"
          },
          "metadata": {}
        }
      ],
      "source": [
        "fig,ax = plt.subplots(1,1,figsize=(8,6),dpi=200)\n",
        "ax.errorbar(epsilon_list, mean_loss_unif, yerr=[2*j for j in stdev_loss_unif],linewidth = 5.0,color='mediumseagreen',label = 'Uniform Prior')\n",
        "ax.errorbar(epsilon_list, mean_loss_disc, yerr=[2*j for j in stdev_loss_disc],linewidth = 5.0,color='dodgerblue',label = 'Discount Regularization')\n",
        "ax.errorbar(epsilon_list,[mean_ss_cv for i in epsilon_list],yerr=[2*stdev_ss_cv for j in epsilon_list],color='firebrick',linewidth = 5.0,alpha = .7,label = r\"State-action specfic $\\epsilon$\")\n",
        "ax.errorbar(epsilon_list,[mean_ss_trueT for i in epsilon_list],yerr=[2*stdev_ss_trueT for j in epsilon_list],color='darkred',linewidth = 5.0,alpha = .7, label = r\"State-Action Specfic Oracle\")\n",
        "\n",
        "ax.set_xlabel(\"Epsilon\",fontsize=18)\n",
        "ax.set_ylabel(\"Loss\",fontsize=18)\n",
        "ax.xaxis.set_major_locator(MaxNLocator(5))\n",
        "ax.yaxis.set_major_locator(MaxNLocator(5))\n",
        "ax.tick_params(axis='both', which='major', labelsize=14)\n",
        "ax.set_ylabel(\"Loss\",fontsize=20)\n",
        "ax.legend()\n",
        "\n",
        "fig.tight_layout(rect=[0.05, 0, 1, 0.85])"
      ]
    }
  ],
  "metadata": {
    "colab": {
      "provenance": [],
      "toc_visible": true
    },
    "gpuClass": "standard",
    "kernelspec": {
      "display_name": "Python 3",
      "name": "python3"
    },
    "language_info": {
      "name": "python"
    }
  },
  "nbformat": 4,
  "nbformat_minor": 0
}