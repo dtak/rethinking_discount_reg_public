{
  "cells": [
    {
      "cell_type": "code",
      "execution_count": null,
      "metadata": {
        "colab": {
          "base_uri": "https://localhost:8080/"
        },
        "id": "F8MHh3Z48GV9",
        "outputId": "86a743a0-a8c8-4298-9911-e48dabf7319d"
      },
      "outputs": [
        {
          "name": "stdout",
          "output_type": "stream",
          "text": [
            "Mounted at /content/gdrive\n"
          ]
        }
      ],
      "source": [
        "from google.colab import drive\n",
        "drive.mount('/content/gdrive')"
      ]
    },
    {
      "cell_type": "code",
      "execution_count": null,
      "metadata": {
        "id": "AyMzXHo6NVaS"
      },
      "outputs": [],
      "source": [
        "import numpy as np\n",
        "import matplotlib.pyplot as plt\n",
        "import torch\n",
        "import random\n",
        "from matplotlib.ticker import FormatStrFormatter\n",
        "from matplotlib.ticker import MaxNLocator\n",
        "from matplotlib.ticker import PercentFormatter"
      ]
    },
    {
      "cell_type": "markdown",
      "metadata": {
        "id": "s_H1Q0j9HpD-"
      },
      "source": [
        "## Cancer Simulator"
      ]
    },
    {
      "cell_type": "code",
      "execution_count": null,
      "metadata": {
        "id": "lwUpgfxPTu_b"
      },
      "outputs": [],
      "source": [
        "################ Cancer Simulator ####################\n",
        "\n",
        "#code from:\n",
        "#Omer Gottesman, Joseph Futoma, Yao Liu, Sonali Parbhoo, Leo Celi, Emma Brunskill,\n",
        "#and Finale Doshi-Velez. Interpretable off-policy evaluation in reinforcement learning by\n",
        "#highlighting influential transitions. In International Conference on Machine Learning,\n",
        "#pages 3658–3667. PMLR, 2020.\n",
        "\n",
        "# This cancer simulator is built on the paper\n",
        "#   * Ribba 2012 (https://pubmed.ncbi.nlm.nih.gov/22761472/)\n",
        "#   * Yauney 2018 (http://proceedings.mlr.press/v85/yauney18a/yauney18a.pdf)\n",
        "\n",
        "# The simulator approximate the dynamics of tumor growth, with actions consisting administration of chemotherapy TMZ at each timestep representing one month.\n",
        "\n",
        "# * State space: 4-dimensional where the first dimension associates with drug concerntration and the last three with tumor diameter\n",
        "# * Action space: TODO\n",
        "# * Maximum Treatment cycle: 30\n",
        "\n",
        "\n",
        "class EnvCancer:\n",
        "    ############# Initialization #############\n",
        "    # dose_penalty -- 0 - no penalty; 1 - small; 10 - large; default no penalty;\n",
        "    # max_steps -- max treatment cycle; default 30 days\n",
        "    # transition_noise -- default 0 (i.e. deterministic)\n",
        "\n",
        "    def __init__(self, dose_penalty=0, max_steps=30, transition_noise=0.0):\n",
        "        # PDE parameter initialization (See Ribba 2012 Sec model & Table 1)\n",
        "        self.kde = 0.32\n",
        "        self.lambda_p = 0.114\n",
        "        self.k_qpp = 0.0045\n",
        "        self.k_pq = 0.0226\n",
        "        self.gamma = 0.842\n",
        "        self.delta_qp = 0.0214\n",
        "        self.k = 100\n",
        "\n",
        "        self.dose_penalty = dose_penalty\n",
        "        self.max_steps = max_steps\n",
        "        self.time_step = None\n",
        "        self.transition_noise = transition_noise\n",
        "\n",
        "    def reset(self):\n",
        "        C = 0\n",
        "        P = 0.924\n",
        "        Q = 42.3\n",
        "        Q_p = 0\n",
        "\n",
        "        self.state = np.array([C, P, Q, Q_p])\n",
        "        self.time_step = 0\n",
        "\n",
        "        #SVR adding noise to start\n",
        "        noise = 1 + self.transition_noise * np.random.randn(4)\n",
        "        self.state *= noise\n",
        "\n",
        "        #start at random state by taking n steps with random actions\n",
        "        #steps = random.randint(0,self.max_steps)\n",
        "        #for s in range(steps):\n",
        "        #  a = np.random.binomial(1,.1)\n",
        "        #  self.perform_action(a)\n",
        "        #self.time_step=0\n",
        "\n",
        "    def is_done(self):\n",
        "        return self.time_step >= self.max_steps\n",
        "\n",
        "    def observe(self):\n",
        "        return self.state\n",
        "\n",
        "    def perform_action(self, action):\n",
        "        # current state\n",
        "        C, P, Q, Q_p = self.state\n",
        "        P_star = P + Q + Q_p\n",
        "        # perform_action\n",
        "        if action == 1:\n",
        "            C += 1\n",
        "        C = C - self.kde * C\n",
        "        P = (P + self.lambda_p * P * (1-P_star/self.k) + self.k_qpp * Q_p\n",
        "             - self.k_pq * P - self.gamma * C * self.kde * P)\n",
        "        Q = Q + self.k_pq * P - self.gamma * C * self.kde * Q\n",
        "        Q_p = (Q_p + self.gamma * C * self.kde * Q - self.k_qpp * Q_p\n",
        "               - self.delta_qp * Q_p)\n",
        "        # new state\n",
        "        next_state = np.array([C, P, Q, Q_p])\n",
        "        # add noise if any\n",
        "        noise = 1 + self.transition_noise * np.random.randn(4)\n",
        "        next_state *= noise\n",
        "        self.state = next_state\n",
        "\n",
        "        # define reward function\n",
        "        P_star_new = P + Q + Q_p\n",
        "        reward = (P_star - P_star_new) - self.dose_penalty * C\n",
        "        self.time_step += 1\n",
        "        return next_state, reward"
      ]
    },
    {
      "cell_type": "markdown",
      "metadata": {
        "id": "WYT6dp_hHshd"
      },
      "source": [
        "## Generate data from simulator\n"
      ]
    },
    {
      "cell_type": "markdown",
      "metadata": {
        "id": "9U0TLWFlI3vK"
      },
      "source": [
        "## Discretize states\n",
        "\n",
        "\n"
      ]
    },
    {
      "cell_type": "markdown",
      "metadata": {
        "id": "NH1CD27IzOGO"
      },
      "source": [
        "### Generate data"
      ]
    },
    {
      "cell_type": "code",
      "execution_count": null,
      "metadata": {
        "colab": {
          "base_uri": "https://localhost:8080/"
        },
        "id": "e-4yYWLYT_7s",
        "outputId": "6e7764d9-f25c-42df-c01d-ceca8bae0b3f"
      },
      "outputs": [
        {
          "name": "stdout",
          "output_type": "stream",
          "text": [
            "n 0\n"
          ]
        }
      ],
      "source": [
        "num_runs = 100000\n",
        "\n",
        "#initialize -- only saving off states so we can look at the distribution of each dimension to discretize\n",
        "C_list = []  #first dim of state\n",
        "P_list = []  #second dim of state\n",
        "Q_list = []  #third dim of state\n",
        "Qp_list = [] #fourt dim of state\n",
        "\n",
        "for n in range(num_runs):\n",
        "  if n%100000 == 0:\n",
        "    print('n',n)\n",
        "  csim = EnvCancer(dose_penalty=10,transition_noise=0.25)\n",
        "  csim.reset()\n",
        "\n",
        "  C_list.append(csim.state[0])\n",
        "  P_list.append(csim.state[1])\n",
        "  Q_list.append(csim.state[2])\n",
        "  Qp_list.append(csim.state[3])\n",
        "\n",
        "  while csim.time_step < csim.max_steps:\n",
        "    a = np.random.binomial(1,.5)\n",
        "    s_prime,r = csim.perform_action(a)\n",
        "    C_list.append(s_prime[0])\n",
        "    P_list.append(s_prime[1])\n",
        "    Q_list.append(s_prime[2])\n",
        "    Qp_list.append(s_prime[3])"
      ]
    },
    {
      "cell_type": "markdown",
      "metadata": {
        "id": "ZoBR7eVXRXb7"
      },
      "source": [
        "### Histograms with quantiles for each state dimension"
      ]
    },
    {
      "cell_type": "code",
      "execution_count": null,
      "metadata": {
        "id": "Kg8zYuw0Q24U"
      },
      "outputs": [],
      "source": [
        "C_25 = np.quantile(C_list,.25)\n",
        "C_50 = np.quantile(C_list,.5)\n",
        "C_75 = np.quantile(C_list,.75)\n",
        "\n",
        "P_25 = np.quantile(P_list,.25)\n",
        "P_50 = np.quantile(P_list,.5)\n",
        "P_75 = np.quantile(P_list,.75)\n",
        "\n",
        "Q_25 = np.quantile(Q_list,.25)\n",
        "Q_50 = np.quantile(Q_list,.5)\n",
        "Q_75 = np.quantile(Q_list,.75)\n",
        "\n",
        "Qp_25 = np.quantile(Qp_list,.25)\n",
        "Qp_50 = np.quantile(Qp_list,.5)\n",
        "Qp_75 = np.quantile(Qp_list,.75)"
      ]
    },
    {
      "cell_type": "code",
      "execution_count": null,
      "metadata": {
        "colab": {
          "base_uri": "https://localhost:8080/"
        },
        "id": "nLJkPkRlNUFz",
        "outputId": "bb131918-05c7-4bbb-cd94-dab2a0cab505"
      },
      "outputs": [
        {
          "data": {
            "text/plain": [
              "<matplotlib.lines.Line2D at 0x7f8cebc71ea0>"
            ]
          },
          "execution_count": 6,
          "metadata": {},
          "output_type": "execute_result"
        },
        {
          "data": {
            "image/png": "[encoded data removed]",
            "text/plain": [
              "<Figure size 1500x1500 with 4 Axes>"
            ]
          },
          "metadata": {},
          "output_type": "display_data"
        }
      ],
      "source": [
        "fig,ax = plt.subplots(2,2,figsize=(15,15))\n",
        "ax[0][0].hist(C_list,bins=25)\n",
        "ax[0][0].set_title('C: drug concentration')\n",
        "ax[0][0].axvline(C_25,color='r',linestyle = \":\")\n",
        "ax[0][0].axvline(C_50,color='r',linestyle = \":\")\n",
        "ax[0][0].axvline(C_75,color='r',linestyle = \":\")\n",
        "\n",
        "ax[0][1].hist(P_list,bins=25)\n",
        "ax[0][1].set_title('P: Proliferative Tissue (mm)')\n",
        "ax[0][1].axvline(P_25,color='r',linestyle = \":\")\n",
        "ax[0][1].axvline(P_50,color='r',linestyle = \":\")\n",
        "ax[0][1].axvline(P_75,color='r',linestyle = \":\")\n",
        "\n",
        "ax[1][0].hist(Q_list,bins=25)\n",
        "ax[1][0].set_title('Q: quiescent tissue (mm)')\n",
        "ax[1][0].axvline(Q_25,color='r',linestyle = \":\")\n",
        "ax[1][0].axvline(Q_50,color='r',linestyle = \":\")\n",
        "ax[1][0].axvline(Q_75,color='r',linestyle = \":\")\n",
        "\n",
        "ax[1][1].hist(Qp_list,bins=25)\n",
        "ax[1][1].set_title('Qp: Damaged quiescent tissue')\n",
        "ax[1][1].axvline(Qp_25,color='r',linestyle = \":\")\n",
        "ax[1][1].axvline(Qp_50,color='r',linestyle = \":\")\n",
        "ax[1][1].axvline(Qp_75,color='r',linestyle = \":\")"
      ]
    },
    {
      "cell_type": "code",
      "execution_count": null,
      "metadata": {
        "colab": {
          "base_uri": "https://localhost:8080/"
        },
        "id": "6DKfyk9cWT5B",
        "outputId": "d04b1c7b-c645-4ab6-aa5d-98af5ba03db8"
      },
      "outputs": [
        {
          "name": "stdout",
          "output_type": "stream",
          "text": [
            "-0.41977313896331464\n",
            "6.345657931975775\n",
            "-4.863372601962225\n",
            "495.37397688236285\n",
            "-1.552854263573678\n",
            "17.21502030222788\n",
            "-8.99573565693143\n",
            "3529.818815805774\n"
          ]
        }
      ],
      "source": [
        "print(min(C_list))\n",
        "print(max(C_list))\n",
        "\n",
        "print(min(Q_list))\n",
        "print(max(Q_list))\n",
        "\n",
        "print(min(P_list))\n",
        "print(max(P_list))\n",
        "\n",
        "print(min(Qp_list))\n",
        "print(max(Qp_list))"
      ]
    },
    {
      "cell_type": "markdown",
      "metadata": {
        "id": "9ss61dyPSGEi"
      },
      "source": [
        "## Helper function to discretize and convert from 4-d to 1-d state space"
      ]
    },
    {
      "cell_type": "code",
      "execution_count": null,
      "metadata": {
        "id": "ot0co1s-NUEi"
      },
      "outputs": [],
      "source": [
        "def convert_state(s):\n",
        "  \"\"\"Convert cancer simulation state to 1-d discrete\n",
        "\n",
        "  input is 4-d continuous state as defined in cancer simulator\n",
        "  output is numerical tabular state\n",
        "\n",
        "  \"\"\"\n",
        "  C,P,Q,Qp = s\n",
        "\n",
        "  #first convert each dimension to quantile\n",
        "  C_discrete = 0*(s[0]< C_25) + 1*((s[0] >= C_25) & (s[0] < C_50)) + 2*((s[0] >= C_50) & (s[0] < C_75)) + 3*(s[0]> C_75)\n",
        "  P_discrete = 0*(s[1]< P_25) + 1*((s[1] >= P_25) & (s[1] < P_50)) + 2*((s[1] >= P_50) & (s[1] < P_75)) + 3*(s[1]> P_75)\n",
        "  Q_discrete = 0*(s[2]< Q_25) + 1*((s[2] >= Q_25) & (s[2] < Q_50)) + 2*((s[2] >= Q_50) & (s[2] < Q_75)) + 3*(s[2]> Q_75)\n",
        "  Qp_discrete = 0*(s[3]< Qp_25) + 1*((s[3] >= Qp_25) & (s[3] < Qp_50)) + 2*((s[3] >= Qp_50) & (s[3] < Qp_75)) + 3*(s[3]> Qp_75)\n",
        "  s_4d_discrete = [C_discrete,P_discrete,Q_discrete,Qp_discrete]\n",
        "\n",
        "  # then convert to 1D\n",
        "  one_d_state = np.ravel_multi_index(tuple(s_4d_discrete),(4,4,4,4))\n",
        "  return one_d_state"
      ]
    },
    {
      "cell_type": "markdown",
      "metadata": {
        "id": "mpwjB9aZuLL0"
      },
      "source": [
        "## Generate trajectory from one run of simulator"
      ]
    },
    {
      "cell_type": "code",
      "execution_count": null,
      "metadata": {
        "id": "9HTZjCtfTtPk"
      },
      "outputs": [],
      "source": [
        "def single_run(pct_treat = .1):\n",
        "  csim = EnvCancer(dose_penalty = 10, transition_noise=.25)\n",
        "\n",
        "  csim.reset()\n",
        "  #initialize -- only saving off states so we can look at the distribution of each dimension to discretize\n",
        "  state_list = []\n",
        "  action_list = []\n",
        "  reward_list = []\n",
        "\n",
        "  state_list.append(convert_state(csim.state))\n",
        "\n",
        "  max_steps = random.randint(0,csim.max_steps) #length of traj\n",
        "\n",
        "  while csim.time_step < max_steps:\n",
        "\n",
        "    #take action\n",
        "    a = np.random.binomial(1,pct_treat)\n",
        "    s_prime,r = csim.perform_action(a)\n",
        "\n",
        "    #save data\n",
        "    state_list.append(convert_state(s_prime))\n",
        "    action_list.append(a)\n",
        "    reward_list.append(r)\n",
        "\n",
        "  return state_list,action_list,reward_list"
      ]
    },
    {
      "cell_type": "markdown",
      "metadata": {
        "id": "_7drhDKyvPql"
      },
      "source": [
        "## Helper functions to estimate MDP\n",
        "data  = [[state_list,action_list,reward_list],[state_list,action_list,reward_list],...]"
      ]
    },
    {
      "cell_type": "code",
      "execution_count": null,
      "metadata": {
        "id": "2FGRLPqOvQAV"
      },
      "outputs": [],
      "source": [
        "def estimate_mdp(data):\n",
        "  num_states = 4*4*4*4\n",
        "  num_actions = 2\n",
        "  T_counts = np.zeros((num_actions,num_states,num_states))\n",
        "  R_sum = np.zeros((num_actions,num_states))\n",
        "\n",
        "  T_default = (1./num_states)*np.ones(num_states)\n",
        "  R_default = 0\n",
        "\n",
        "  for d in data:\n",
        "\n",
        "    #add transition data to count matrix\n",
        "    state_list = d[0]\n",
        "    action_list = d[1]\n",
        "    reward_list = d[2]\n",
        "    for i in range(len(state_list)-1):\n",
        "      a = action_list[i]\n",
        "      s = state_list[i]\n",
        "      s_prime = state_list[i+1]\n",
        "      T_counts[a][s][s_prime] +=1\n",
        "      R_sum[a][s_prime] += reward_list[i]\n",
        "\n",
        "  #estimate T and R\n",
        "  T_hat = np.zeros((num_actions,num_states,num_states))\n",
        "  r_hat = np.zeros((num_actions,num_states))\n",
        "\n",
        "  for a in range(num_actions):\n",
        "    for s in range(num_states):\n",
        "      total_counts = np.sum(T_counts[a][s])\n",
        "      if total_counts == 0:\n",
        "        T_hat[a][s] = T_default\n",
        "        r_hat[a][s] = R_default\n",
        "      else:\n",
        "        T_hat[a][s] = T_counts[a][s]/total_counts\n",
        "        r_hat[a][s] = R_sum[a][s]/total_counts\n",
        "\n",
        "  return T_hat,r_hat,T_counts\n"
      ]
    },
    {
      "cell_type": "code",
      "execution_count": null,
      "metadata": {
        "id": "hpG69rfqKfkZ"
      },
      "outputs": [],
      "source": [
        "#frequency of each state in \"True\" data set\n",
        "def state_weights(data):\n",
        "  num_states = 4*4*4*4\n",
        "  state_count = np.zeros(num_states)\n",
        "\n",
        "  for d in data:\n",
        "    state_list = d[0]\n",
        "    for s in state_list:\n",
        "      state_count[s]+=1\n",
        "  return state_count/float(sum(state_count))"
      ]
    },
    {
      "cell_type": "markdown",
      "metadata": {
        "id": "T5m_0QdTuJbE"
      },
      "source": [
        "## Estimate T, R for n runs of simulator\n"
      ]
    },
    {
      "cell_type": "code",
      "execution_count": null,
      "metadata": {
        "id": "HE_hznuTuIoe"
      },
      "outputs": [],
      "source": [
        "def get_data_and_estimate(pct_treat,num_trajectories):\n",
        "  data = []\n",
        "  for n in range(num_trajectories):\n",
        "    s,a,r = single_run(pct_treat)\n",
        "    data.append([s,a,r])\n",
        "\n",
        "  return estimate_mdp(data),state_weights(data)\n",
        "\n",
        "# Define True MDP for below and also ground truth for simulations\n",
        "[T_true,R_true,T_counts],true_weights = get_data_and_estimate(pct_treat = .50,num_trajectories = 100000)"
      ]
    },
    {
      "cell_type": "markdown",
      "metadata": {
        "id": "_Gm9VjmlCHmV"
      },
      "source": [
        "## Dynamic Programming\n"
      ]
    },
    {
      "cell_type": "code",
      "execution_count": null,
      "metadata": {
        "id": "O1FNwgQLIBd2"
      },
      "outputs": [],
      "source": [
        "def value_iter(gamma, T_list,R_list, theta = .0001):\n",
        "  \"\"\"Value Iteration\n",
        "  \"\"\"\n",
        "  num_states = T_list.shape[1]\n",
        "\n",
        "  T = torch.tensor(np.array([np.array(x) for x in T_list]))\n",
        "  R = torch.tensor(np.array(R_list))\n",
        "\n",
        "  #V = torch.tensor(np.zeros(10))\n",
        "  V = torch.tensor(np.random.uniform(0,1,num_states))\n",
        "  delta = 10.\n",
        "\n",
        "  while delta > theta:\n",
        "      v = V\n",
        "      V = torch.max(R + gamma*torch.einsum(\"bij,j->bi\", T, V),dim=0).values\n",
        "      delta= torch.max(torch.abs(v-V)).item()\n",
        "\n",
        "  #get greedy policy\n",
        "  P = torch.max(R + gamma*torch.einsum(\"bij,j->bi\", T, V),dim=0).indices\n",
        "\n",
        "  return np.array(P),np.array(V)\n"
      ]
    },
    {
      "cell_type": "code",
      "execution_count": null,
      "metadata": {
        "id": "y5hiln6cP59J"
      },
      "outputs": [],
      "source": [
        "def eval_policy(gamma,policy,T_list,R_list,theta):\n",
        "  \"\"\"Policy evaluation\n",
        "  \"\"\"\n",
        "  num_states = T_list[0].shape[0]\n",
        "\n",
        "  index = list(zip(policy,range(num_states)))\n",
        "  T_pi = np.matrix([T_list[i][j] for (i,j) in index])\n",
        "  #R_pi = np.transpose(np.matrix(R_list))\n",
        "  R_pi = np.array([R_list[i][j] for (i,j) in index])\n",
        "\n",
        "  value = np.linalg.solve(np.eye(num_states)-gamma*T_pi,R_pi)\n",
        "\n",
        "  return value"
      ]
    },
    {
      "cell_type": "markdown",
      "metadata": {
        "id": "tzXUA1pyO2Z-"
      },
      "source": [
        "## Regularization"
      ]
    },
    {
      "cell_type": "markdown",
      "metadata": {
        "id": "q1lC-xO8PB8n"
      },
      "source": [
        "### global param for all states"
      ]
    },
    {
      "cell_type": "code",
      "execution_count": null,
      "metadata": {
        "id": "MRmy0Y7bO2rm"
      },
      "outputs": [],
      "source": [
        "def uniform_prior(eps,sa_count_list):\n",
        "    T_unif_list = []\n",
        "    num_actions = sa_count_list.shape[0]\n",
        "    num_states = sa_count_list.shape[1]\n",
        "    unif_prior = np.ones((num_states,num_states))\n",
        "\n",
        "    total_sa_count = 0\n",
        "    for sa_count in sa_count_list:\n",
        "      total_sa_count += np.sum(sa_count)\n",
        "    avg_count = total_sa_count/(num_states*num_actions)\n",
        "    mag = eps/(1-eps)*avg_count/num_states\n",
        "\n",
        "    for sa_count in sa_count_list:\n",
        "        if eps == 1:\n",
        "            alpha_post = 0*sa_count+unif_prior\n",
        "        else:\n",
        "            alpha_post = sa_count + mag*unif_prior\n",
        "\n",
        "        T_post = np.zeros((num_states,num_states))\n",
        "        default = (1./num_states)*np.ones(num_states) #uniform default, as above\n",
        "        for i in range(num_states):\n",
        "            sum_state = alpha_post[i].sum()\n",
        "            if sum_state == 0: # never visited state i and took action \"act\"\n",
        "                T_post[i] = default\n",
        "            else:\n",
        "                T_post[i] = (1./sum_state)*alpha_post[i]\n",
        "        T_unif_list.append(T_post)\n",
        "\n",
        "    return T_unif_list"
      ]
    },
    {
      "cell_type": "markdown",
      "metadata": {
        "id": "IBgZWzNpPFAF"
      },
      "source": [
        "### State-specific"
      ]
    },
    {
      "cell_type": "code",
      "execution_count": null,
      "metadata": {
        "id": "Go1MxHaBO--f"
      },
      "outputs": [],
      "source": [
        "def epsilon_star_unif(T_sa,num_samples):\n",
        "  \"\"\"Calculate optimal value of epsilon for uniform prior\n",
        "\n",
        "  Optimal epsilon if we knew true value of T\n",
        "\n",
        "  \"\"\"\n",
        "  num_states = len(T_sa)\n",
        "  numerator = 0\n",
        "  denominator = 0\n",
        "  for s_prime in range(num_states):\n",
        "    numerator += (1./num_samples)*T_sa[s_prime]*(1-T_sa[s_prime])\n",
        "    denominator += ((1./num_samples)*T_sa[s_prime]*(1-T_sa[s_prime]) + T_sa[s_prime]**2 - 2/num_states*T_sa[s_prime] + 1/(num_states**2))\n",
        "  return numerator/denominator\n",
        "\n",
        "def mse_unif(T_sa,epsilon,num_samples):\n",
        "  mse = 0\n",
        "  num_states = len(T_sa)\n",
        "  for s_prime in range(num_states):\n",
        "    mse += (1-epsilon)**2*(1/num_samples)*T_sa[s_prime]*(1-T_sa[s_prime])+epsilon**2*((1/num_states)-T_sa[s_prime])**2\n",
        "\n",
        "  return mse"
      ]
    },
    {
      "cell_type": "code",
      "execution_count": null,
      "metadata": {
        "id": "bjEUAEEFPQ5J"
      },
      "outputs": [],
      "source": [
        "def epsilon_star_hat_unif(sa_count_list):\n",
        "\n",
        "  \"\"\"Calculate optimal value of epsilon for uniform prior\n",
        "\n",
        "  Optimal epsilon for single s-a pair for when we do not know true T\n",
        "\n",
        "  \"\"\"\n",
        "  epsilon_list = np.linspace(0,1,100)\n",
        "  num_resamples = 25\n",
        "  prior_mag = .10\n",
        "\n",
        "  max_mse_by_eps = []\n",
        "  mean_mse_by_eps = []\n",
        "  mse = 0\n",
        "  num_samples = np.sum(sa_count_list)\n",
        "\n",
        "  #define posterior. T_sa ~ dirichlet(alpha)\n",
        "  alpha = tuple(x+prior_mag for x in sa_count_list)\n",
        "  for e in epsilon_list:\n",
        "\n",
        "    mse_list = []\n",
        "    for n in range(num_resamples):\n",
        "\n",
        "      #sample new T-hat from posterior\n",
        "      T_samp = np.random.dirichlet(alpha)\n",
        "\n",
        "      #calc MSE\n",
        "      if num_samples > 0:\n",
        "        mse = mse_unif(T_samp,e,num_samples)\n",
        "      else:\n",
        "        mse = mse_unif(T_samp,e,1)\n",
        "      mse_list.append(mse)\n",
        "\n",
        "    #max_mse_by_eps.append(max(mse_list))\n",
        "    mean_mse_by_eps.append(np.mean(mse_list))\n",
        "\n",
        "  #min_index = max_mse_by_eps.index(min(max_mse_by_eps))\n",
        "  min_index = mean_mse_by_eps.index(min(mean_mse_by_eps))\n",
        "\n",
        "\n",
        "  return epsilon_list[min_index]"
      ]
    },
    {
      "cell_type": "code",
      "execution_count": null,
      "metadata": {
        "id": "pw7PQKEzPQ4G"
      },
      "outputs": [],
      "source": [
        "def T_reg_unif_per_state(T_mle_list,sa_count_list,cross_validate=False):\n",
        "\n",
        "  num_states = T_mle_list[0].shape[0]\n",
        "  num_actions = len(T_mle_list)\n",
        "  T_reg_list = []\n",
        "  T_unif = (1./num_states)*np.ones(num_states)\n",
        "\n",
        "  T_sa_reg_list = [] #list of regularized transition matrixes for each action\n",
        "  for a in range(num_actions):\n",
        "    T_sa_reg = [] #action a regularized matrix\n",
        "    num_samples_a = sa_count_list[a].sum(axis=1).tolist()\n",
        "    for row_num in range(num_states):\n",
        "      num_sa_samples = num_samples_a[row_num]\n",
        "      if cross_validate==True:\n",
        "        eps_sa = epsilon_star_hat_unif(sa_count_list[a].tolist()[row_num])\n",
        "      else:\n",
        "        try:\n",
        "          eps_sa = epsilon_star_unif(T_mle_list[a].tolist()[row_num],num_sa_samples)\n",
        "        except:\n",
        "          eps_sa = 1\n",
        "\n",
        "      T_sa_reg.append([(1-eps_sa)*x + eps_sa*y for (x,y) in zip(T_mle_list[a].tolist()[row_num],T_unif)])\n",
        "    T_sa_reg_list.append(np.array(T_sa_reg))\n",
        "\n",
        "  return T_sa_reg_list"
      ]
    },
    {
      "cell_type": "code",
      "execution_count": null,
      "metadata": {
        "id": "6Z3stFZoPeIm"
      },
      "outputs": [],
      "source": [
        "def T_reg_unif_per_state_trueT(T_list,T_mle_list,sa_count_list):\n",
        "\n",
        "  \"\"\"State-specific regularization calculating epsilon* using true T\n",
        "\n",
        "  (Theoretical minimum loss using our method)\n",
        "\n",
        "  \"\"\"\n",
        "  num_states = T_list[0].shape[0]\n",
        "  num_actions = len(T_list)\n",
        "  T_reg_list = []\n",
        "  T_unif = (1./num_states)*np.ones(num_states)\n",
        "\n",
        "  T_sa_reg_list = [] #list of regularized transition matrixes for each action\n",
        "  for a in range(num_actions):\n",
        "    T_sa_reg = [] #action a regularized matrix\n",
        "    num_samples_a = sa_count_list[a].sum(axis=1).tolist()\n",
        "    for row_num in range(num_states):\n",
        "      num_sa_samples = num_samples_a[row_num]\n",
        "      if num_sa_samples > 0:\n",
        "        eps_sa = epsilon_star_unif(T_list[a][row_num],num_sa_samples)\n",
        "      else:\n",
        "        eps_sa = 1\n",
        "      #print('num_sa_samples',num_sa_samples)\n",
        "      #print('epsilon',eps_sa)\n",
        "      T_sa_reg.append([(1-eps_sa)*x + eps_sa*y for (x,y) in zip(T_mle_list[a][row_num],T_unif)])\n",
        "    T_sa_reg_list.append(np.array(T_sa_reg))\n",
        "\n",
        "  return T_sa_reg_list"
      ]
    },
    {
      "cell_type": "markdown",
      "metadata": {
        "id": "jGl8B8hFNRWW"
      },
      "source": [
        "## Compare Loss by Regularization Method"
      ]
    },
    {
      "cell_type": "code",
      "execution_count": null,
      "metadata": {
        "id": "D_hEmCvHCH8F"
      },
      "outputs": [],
      "source": [
        "def calc_loss(num_trajectories,num_datasets,T_true,R_true):\n",
        "\n",
        "  gamma_eval = 0.99\n",
        "  theta = .0001\n",
        "  epsilon_list = [0,.1,.2,.3,.4,.5,.6,.7,.8,.9,.95,.99]\n",
        "  pct_treat = .50\n",
        "\n",
        "  #store loss for each value of epsilon\n",
        "  loss_dict_disc = {} #discount regularization\n",
        "  loss_dict_unif = {} #uniform prior with equal magnitude\n",
        "  for e in epsilon_list:\n",
        "    loss_dict_disc[e] = []\n",
        "    loss_dict_unif[e] = []\n",
        "\n",
        "  #loss for state-specfic\n",
        "  loss_list_unif_ss_cv = [] #state specific with epsilon found by cv\n",
        "  loss_list_unif_ss_MLE = [] #state specific with epsilon found using t-mle\n",
        "  loss_list_unif_ss_TrueT = [] #state specific with epsilon found using true T\n",
        "\n",
        "  # True MDP, policy, value\n",
        "  #T_true,R_true,T_counts_true = get_data_and_estimate(1000)  #move this outside as global variable if running multiple times\n",
        "  p,v = value_iter(gamma_eval,T_true,R_true,theta)\n",
        "  num_states = T_true.shape[1]\n",
        "  start_state_weights = (1./num_states)*np.ones(num_states) #evalulation\n",
        "\n",
        "  for n in range(num_datasets):\n",
        "    print('n',n)\n",
        "    [T_mle,R_mle,T_counts],w = get_data_and_estimate(pct_treat,num_trajectories)\n",
        "    #print('T_counts',T_counts.sum(axis=1))\n",
        "\n",
        "    #state specific epsilon losses - unif WITH CV\n",
        "    T_unif_ss_list = T_reg_unif_per_state(T_mle,T_counts,cross_validate=True)\n",
        "    p_unif_ss,v_unif_ss = value_iter(gamma_eval,np.array(T_unif_ss_list),R_true)\n",
        "    v_unif_ss = eval_policy(gamma_eval,np.array(p_unif_ss),T_true,R_true,theta) #calculate value of policy in true MDP\n",
        "    loss_unif_ss = v - np.array(v_unif_ss)\n",
        "    loss_unif_ss = np.average(loss_unif_ss,axis=None,weights=true_weights)\n",
        "    loss_list_unif_ss_cv.append(loss_unif_ss)\n",
        "    print('loss_unif_ss',loss_unif_ss)\n",
        "\n",
        "    #state specific - Using true T to get theoretical min loss\n",
        "    T_unif_ss_list2 = T_reg_unif_per_state_trueT(T_true,T_mle,T_counts)\n",
        "    p_unif_ss2,v_unif_ss2 = value_iter(gamma_eval,np.array(T_unif_ss_list2),R_true)\n",
        "    v_unif_ss2 = eval_policy(gamma_eval,np.array(p_unif_ss2),T_true,R_true,theta) #calculate value of policy in true MDP\n",
        "    loss_unif_ss2 = v - np.array(v_unif_ss2)\n",
        "    loss_unif_ss2 = np.average(loss_unif_ss2,axis=None,weights=true_weights)\n",
        "    loss_list_unif_ss_TrueT.append(loss_unif_ss2)\n",
        "    print('loss_unif_ss2',loss_unif_ss2)\n",
        "\n",
        "    #state specific epsilon losses - unif WITHOUT CV\n",
        "    T_unif_ss_list3 = T_reg_unif_per_state(T_mle,T_counts,cross_validate=False)\n",
        "    p_unif_ss3,v_unif_ss3 = value_iter(gamma_eval,np.array(T_unif_ss_list3),R_true)\n",
        "    v_unif_ss3 = eval_policy(gamma_eval,np.array(p_unif_ss3),T_true,R_true,theta) #calculate value of policy in true MDP\n",
        "    loss_unif_ss3 = v - np.array(v_unif_ss3)\n",
        "    loss_unif_ss3 = np.average(loss_unif_ss3,axis=None,weights=true_weights)\n",
        "    loss_list_unif_ss_MLE.append(loss_unif_ss3)\n",
        "\n",
        "    for e in epsilon_list:\n",
        "      T_hat_unif = uniform_prior(e,T_counts)\n",
        "\n",
        "      #calculate optimal policy and its value for regularized MDPs\n",
        "      #assume R known\n",
        "      p_disc,v_disc = value_iter((1-e)*gamma_eval,T_mle,R_true,theta)\n",
        "      p_unif,v_unif = value_iter(gamma_eval,np.array(T_hat_unif),R_true,theta)\n",
        "\n",
        "      #calculate value of policies above using true MDP\n",
        "      v_disc = eval_policy(gamma_eval,p_disc,T_true,R_true,theta)\n",
        "      v_unif = eval_policy(gamma_eval,p_unif,T_true,R_true,theta)\n",
        "\n",
        "      #loss = expected value over starting state distrib\n",
        "      loss_disc = v - np.array(v_disc)\n",
        "      loss_unif = v - np.array(v_unif)\n",
        "\n",
        "      loss_dict_disc[e].append(np.average(loss_disc,axis=None,weights=true_weights))\n",
        "      loss_dict_unif[e].append(np.average(loss_unif,axis=None,weights=true_weights))\n",
        "\n",
        "    #mean loss\n",
        "    mean_loss_disc = []\n",
        "    mean_loss_unif = []\n",
        "    for e in epsilon_list:\n",
        "        mean_loss_disc.append(np.mean(loss_dict_disc[e]))\n",
        "        mean_loss_unif.append(np.mean(loss_dict_unif[e]))\n",
        "\n",
        "    #stdev loss of MEAN loss\n",
        "    stdev_loss_disc = []\n",
        "    stdev_loss_unif = []\n",
        "    for e in epsilon_list:\n",
        "        stdev_loss_disc.append(np.std(loss_dict_disc[e])/np.sqrt(num_datasets))\n",
        "        stdev_loss_unif.append(np.std(loss_dict_unif[e])/np.sqrt(num_datasets))\n",
        "\n",
        "  return mean_loss_disc,mean_loss_unif,stdev_loss_disc,stdev_loss_unif,np.mean(loss_list_unif_ss_cv),np.mean(loss_list_unif_ss_TrueT),np.mean(loss_list_unif_ss_MLE),np.std(loss_list_unif_ss_cv)/np.sqrt(num_datasets),np.std(loss_list_unif_ss_MLE)/np.sqrt(num_datasets)\n"
      ]
    },
    {
      "cell_type": "code",
      "execution_count": null,
      "metadata": {
        "colab": {
          "base_uri": "https://localhost:8080/"
        },
        "id": "cpviIIT5QadO",
        "outputId": "e84684b6-64dc-43c1-c942-4872fd7275ff"
      },
      "outputs": [
        {
          "output_type": "stream",
          "name": "stdout",
          "text": [
            "n 0\n",
            "loss_unif_ss 253.20510466712636\n",
            "loss_unif_ss2 248.37923833546142\n",
            "n 1\n",
            "loss_unif_ss 248.37923833546142\n",
            "loss_unif_ss2 244.54911639707743\n",
            "n 2\n",
            "loss_unif_ss 252.56485658661452\n",
            "loss_unif_ss2 251.97374380839986\n",
            "n 3\n",
            "loss_unif_ss 248.37923833546142\n",
            "loss_unif_ss2 246.38845807937886\n",
            "n 4\n",
            "loss_unif_ss 248.99174804000455\n",
            "loss_unif_ss2 250.9239331010959\n",
            "n 5\n",
            "loss_unif_ss 248.37923833546142\n",
            "loss_unif_ss2 245.13634616037106\n",
            "n 6\n",
            "loss_unif_ss 248.99174804000455\n",
            "loss_unif_ss2 245.99777922049785\n",
            "n 7\n",
            "loss_unif_ss 248.37923833546142\n",
            "loss_unif_ss2 244.51160420820315\n",
            "n 8\n",
            "loss_unif_ss 253.20510466712636\n",
            "loss_unif_ss2 245.56760417873807\n",
            "n 9\n",
            "loss_unif_ss 253.20510466712636\n",
            "loss_unif_ss2 244.54078828814755\n",
            "n 10\n",
            "loss_unif_ss 253.20510466712636\n",
            "loss_unif_ss2 243.64530237004948\n",
            "n 11\n",
            "loss_unif_ss 248.37923833546142\n",
            "loss_unif_ss2 245.20574325710453\n",
            "n 12\n",
            "loss_unif_ss 248.37923833546142\n",
            "loss_unif_ss2 253.8796706217019\n",
            "n 13\n",
            "loss_unif_ss 248.37923833546142\n",
            "loss_unif_ss2 243.9357655653558\n",
            "n 14\n",
            "loss_unif_ss 254.07662427417344\n",
            "loss_unif_ss2 254.87189329174424\n",
            "n 15\n",
            "loss_unif_ss 253.20510466712636\n",
            "loss_unif_ss2 247.23768618216178\n",
            "n 16\n",
            "loss_unif_ss 248.37923833546142\n",
            "loss_unif_ss2 248.69590990305187\n",
            "n 17\n",
            "loss_unif_ss 253.20510466712636\n",
            "loss_unif_ss2 247.87031019810553\n",
            "n 18\n",
            "loss_unif_ss 253.20510466712636\n",
            "loss_unif_ss2 245.33365594248625\n",
            "n 19\n",
            "loss_unif_ss 248.37923833546142\n",
            "loss_unif_ss2 246.80086115936913\n",
            "n 20\n",
            "loss_unif_ss 253.20510466712636\n",
            "loss_unif_ss2 252.56485658661452\n",
            "n 21\n",
            "loss_unif_ss 246.24519593295094\n",
            "loss_unif_ss2 243.85976388149078\n",
            "n 22\n",
            "loss_unif_ss 253.20510466712636\n",
            "loss_unif_ss2 247.7361190672461\n",
            "n 23\n",
            "loss_unif_ss 253.84878388224698\n",
            "loss_unif_ss2 282.6885435804902\n",
            "n 24\n",
            "loss_unif_ss 253.84878388224698\n",
            "loss_unif_ss2 246.32189007613925\n",
            "n 25\n",
            "loss_unif_ss 248.99174804000455\n",
            "loss_unif_ss2 251.57642046489582\n",
            "n 26\n",
            "loss_unif_ss 253.20510466712636\n",
            "loss_unif_ss2 247.46230734953735\n",
            "n 27\n",
            "loss_unif_ss 252.56485658661452\n",
            "loss_unif_ss2 249.22368734530102\n",
            "n 28\n",
            "loss_unif_ss 253.84878388224698\n",
            "loss_unif_ss2 257.2858000018203\n",
            "n 29\n",
            "loss_unif_ss 253.20510466712636\n",
            "loss_unif_ss2 255.4580213852476\n",
            "n 30\n",
            "loss_unif_ss 253.84878388224698\n",
            "loss_unif_ss2 250.45933584256437\n",
            "n 31\n",
            "loss_unif_ss 253.20510466712636\n",
            "loss_unif_ss2 247.7361190672461\n",
            "n 32\n",
            "loss_unif_ss 248.37923833546142\n",
            "loss_unif_ss2 246.9266435927134\n",
            "n 33\n",
            "loss_unif_ss 253.20510466712636\n",
            "loss_unif_ss2 257.6550919938145\n",
            "n 34\n",
            "loss_unif_ss 253.20510466712636\n",
            "loss_unif_ss2 252.29283049854416\n",
            "n 35\n",
            "loss_unif_ss 253.20510466712636\n",
            "loss_unif_ss2 249.53620914692257\n",
            "n 36\n",
            "loss_unif_ss 248.37923833546142\n",
            "loss_unif_ss2 246.51786998552146\n",
            "n 37\n",
            "loss_unif_ss 254.07662427417344\n",
            "loss_unif_ss2 248.3780136971222\n",
            "n 38\n",
            "loss_unif_ss 248.51768776136083\n",
            "loss_unif_ss2 246.58860488051937\n",
            "n 39\n",
            "loss_unif_ss 253.20510466712636\n",
            "loss_unif_ss2 253.20510466712636\n",
            "n 40\n",
            "loss_unif_ss 253.20510466712636\n",
            "loss_unif_ss2 251.57154540348546\n",
            "n 41\n",
            "loss_unif_ss 253.20510466712636\n",
            "loss_unif_ss2 248.37923833546142\n",
            "n 42\n",
            "loss_unif_ss 253.20510466712636\n",
            "loss_unif_ss2 248.80835110399238\n",
            "n 43\n",
            "loss_unif_ss 253.20510466712636\n",
            "loss_unif_ss2 249.13910993704673\n",
            "n 44\n",
            "loss_unif_ss 254.07662427417344\n",
            "loss_unif_ss2 253.40572593167937\n",
            "n 45\n",
            "loss_unif_ss 253.20510466712636\n",
            "loss_unif_ss2 247.38524977455972\n",
            "n 46\n",
            "loss_unif_ss 253.20510466712636\n",
            "loss_unif_ss2 279.0381457210932\n",
            "n 47\n",
            "loss_unif_ss 253.20510466712636\n",
            "loss_unif_ss2 253.2395534481061\n",
            "n 48\n",
            "loss_unif_ss 253.20510466712636\n",
            "loss_unif_ss2 248.37923833546142\n",
            "n 49\n",
            "loss_unif_ss 248.37923833546142\n",
            "loss_unif_ss2 375.27318568251167\n",
            "n 50\n",
            "loss_unif_ss 253.20510466712636\n",
            "loss_unif_ss2 247.59061763751893\n",
            "n 51\n",
            "loss_unif_ss 253.20510466712636\n",
            "loss_unif_ss2 252.48966876974012\n",
            "n 52\n",
            "loss_unif_ss 248.37923833546142\n",
            "loss_unif_ss2 249.76563193559048\n",
            "n 53\n",
            "loss_unif_ss 253.94554896352957\n",
            "loss_unif_ss2 247.86547821755016\n",
            "n 54\n",
            "loss_unif_ss 253.20510466712636\n",
            "loss_unif_ss2 244.97266959852058\n",
            "n 55\n",
            "loss_unif_ss 248.99174804000455\n",
            "loss_unif_ss2 247.73297958914515\n",
            "n 56\n",
            "loss_unif_ss 253.20510466712636\n",
            "loss_unif_ss2 250.64920702467302\n",
            "n 57\n",
            "loss_unif_ss 248.37923833546142\n",
            "loss_unif_ss2 245.07393102399197\n",
            "n 58\n",
            "loss_unif_ss 253.20510466712636\n",
            "loss_unif_ss2 243.1936052761539\n",
            "n 59\n",
            "loss_unif_ss 253.20510466712636\n",
            "loss_unif_ss2 241.8510252695225\n",
            "n 60\n",
            "loss_unif_ss 248.37923833546142\n",
            "loss_unif_ss2 248.80835110399238\n",
            "n 61\n",
            "loss_unif_ss 253.20510466712636\n",
            "loss_unif_ss2 253.84878388224698\n",
            "n 62\n",
            "loss_unif_ss 248.37923833546142\n",
            "loss_unif_ss2 247.6069953179612\n",
            "n 63\n",
            "loss_unif_ss 253.20510466712636\n",
            "loss_unif_ss2 246.24519593295094\n",
            "n 64\n",
            "loss_unif_ss 253.20510466712636\n",
            "loss_unif_ss2 247.87885170976296\n",
            "n 65\n",
            "loss_unif_ss 253.84878388224698\n",
            "loss_unif_ss2 247.67064501284085\n",
            "n 66\n",
            "loss_unif_ss 253.20510466712636\n",
            "loss_unif_ss2 248.37923833546142\n",
            "n 67\n",
            "loss_unif_ss 248.37923833546142\n",
            "loss_unif_ss2 246.47472524218387\n",
            "n 68\n",
            "loss_unif_ss 253.20510466712636\n",
            "loss_unif_ss2 244.46884024645942\n",
            "n 69\n",
            "loss_unif_ss 248.37923833546142\n",
            "loss_unif_ss2 246.0459134664921\n",
            "n 70\n",
            "loss_unif_ss 248.37923833546142\n",
            "loss_unif_ss2 252.5641532410014\n",
            "n 71\n",
            "loss_unif_ss 248.37923833546142\n",
            "loss_unif_ss2 248.79539165336234\n",
            "n 72\n",
            "loss_unif_ss 253.20510466712636\n",
            "loss_unif_ss2 248.1683579943737\n",
            "n 73\n",
            "loss_unif_ss 253.84878388224698\n",
            "loss_unif_ss2 252.17104462160285\n",
            "n 74\n",
            "loss_unif_ss 248.99174804000455\n",
            "loss_unif_ss2 246.88985101570378\n",
            "n 75\n",
            "loss_unif_ss 253.20510466712636\n",
            "loss_unif_ss2 253.97822557407432\n",
            "n 76\n",
            "loss_unif_ss 253.20510466712636\n",
            "loss_unif_ss2 246.4196929941296\n",
            "n 77\n",
            "loss_unif_ss 253.08593037413888\n",
            "loss_unif_ss2 253.28441138581383\n",
            "n 78\n",
            "loss_unif_ss 248.37923833546142\n",
            "loss_unif_ss2 246.9533937671386\n",
            "n 79\n",
            "loss_unif_ss 253.20510466712636\n",
            "loss_unif_ss2 252.39009300226618\n",
            "n 80\n",
            "loss_unif_ss 253.20510466712636\n",
            "loss_unif_ss2 246.71981866805876\n",
            "n 81\n",
            "loss_unif_ss 253.20510466712636\n",
            "loss_unif_ss2 247.1826377179313\n",
            "n 82\n",
            "loss_unif_ss 253.94554896352957\n",
            "loss_unif_ss2 247.73213031217958\n",
            "n 83\n",
            "loss_unif_ss 253.20510466712636\n",
            "loss_unif_ss2 248.6176557250035\n",
            "n 84\n",
            "loss_unif_ss 253.20510466712636\n",
            "loss_unif_ss2 246.521711532041\n",
            "n 85\n",
            "loss_unif_ss 253.20510466712636\n",
            "loss_unif_ss2 246.46707320343967\n",
            "n 86\n",
            "loss_unif_ss 253.20510466712636\n",
            "loss_unif_ss2 245.77544846241545\n",
            "n 87\n",
            "loss_unif_ss 253.20510466712636\n",
            "loss_unif_ss2 251.91627245500308\n",
            "n 88\n",
            "loss_unif_ss 252.56485658661452\n",
            "loss_unif_ss2 252.56485658661452\n",
            "n 89\n",
            "loss_unif_ss 253.84878388224698\n",
            "loss_unif_ss2 241.24591965688515\n",
            "n 90\n",
            "loss_unif_ss 253.20510466712636\n",
            "loss_unif_ss2 248.37923833546142\n",
            "n 91\n",
            "loss_unif_ss 253.20510466712636\n",
            "loss_unif_ss2 244.89875286455356\n",
            "n 92\n",
            "loss_unif_ss 253.20510466712636\n",
            "loss_unif_ss2 249.13079170482354\n",
            "n 93\n",
            "loss_unif_ss 248.37923833546142\n",
            "loss_unif_ss2 245.4631563444733\n",
            "n 94\n",
            "loss_unif_ss 248.37923833546142\n",
            "loss_unif_ss2 252.03519954425292\n",
            "n 95\n",
            "loss_unif_ss 248.37923833546142\n",
            "loss_unif_ss2 240.3507055617062\n",
            "n 96\n",
            "loss_unif_ss 253.20510466712636\n",
            "loss_unif_ss2 252.56485658661452\n",
            "n 97\n",
            "loss_unif_ss 252.29283049854416\n",
            "loss_unif_ss2 244.7747999356684\n",
            "n 98\n",
            "loss_unif_ss 260.2343822629574\n",
            "loss_unif_ss2 247.46230734953735\n",
            "n 99\n",
            "loss_unif_ss 253.20510466712636\n",
            "loss_unif_ss2 251.40879532285828\n"
          ]
        },
        {
          "output_type": "display_data",
          "data": {
            "text/plain": [
              "<Figure size 800x600 with 1 Axes>"
            ],
            "image/png": "[encoded data removed]"
          },
          "metadata": {}
        }
      ],
      "source": [
        "#.25 transition noise\n",
        "# dose_penalty = 10\n",
        "# start state: .1 transition_noise\n",
        "# length: random lengths to increase uneven distrib of data\n",
        "# 50 traj\n",
        "# 50% treat\n",
        "# 500 resamples\n",
        "\n",
        "num_traj = 50\n",
        "num_datasets = 100\n",
        "mean_loss_disc, mean_loss_unif,stdev_loss_disc,stdev_loss_unif,loss_unif_ss_cv,loss_list_unif_ss_trueT,loss_unif_ss_mle,stdev_loss_ss_cv,stdev_loss_ss_mle=calc_loss(num_traj,num_datasets,T_true,R_true)\n",
        "epsilon_list = [0,.1,.2,.3,.4,.5,.6,.7,.8,.9,.95,.99]\n",
        "\n",
        "fig,ax = plt.subplots(1,1,figsize=(8,6))\n",
        "#ax.plot(epsilon_list,eg_normalized,label = 'Epsilon-Greedy',alpha=.5,linewidth = 5.0,color='mediumseagreen')\n",
        "#ax.plot(epsilon_list,mean_loss_unif,label = 'Uniform Prior',alpha=.8,linewidth = 5.0,color='#3a98c7')\n",
        "ax.errorbar(epsilon_list, mean_loss_unif, yerr=[2*j for j in stdev_loss_unif],label = 'Uniform Prior',linewidth =5.0,color='mediumseagreen')\n",
        "#ax.plot(epsilon_list,mean_loss_disc,label = 'Discount Regularization',alpha=.8,linewidth = 5.0,color='#ed6a47')\n",
        "ax.errorbar(epsilon_list, mean_loss_disc, yerr=[2*j for j in stdev_loss_disc],label = 'Discount Regularization',linewidth = 5.0,color='dodgerblue')\n",
        "#ax.axhline(y=loss_unif_ss_cv, color='darkblue', linestyle='-',linewidth = 5.0,alpha = .7, label = r\"State-action specfic $\\epsilon$ (CV)\")\n",
        "ax.errorbar(epsilon_list,[loss_unif_ss_cv for i in epsilon_list],yerr=[2*stdev_loss_ss_cv for j in epsilon_list],color='firebrick',linewidth = 5.0,alpha = .7,label = r\"State-Action Specfic $\\epsilon$\")\n",
        "#ax.axhline(y=loss_unif_ss_mle, color='teal', linestyle='-',linewidth = 5.0,alpha = .7, label = r\"State-action specfic $\\epsilon$ (MLE)\")\n",
        "#ax.errorbar(epsilon_list,[loss_unif_ss_mle for i in epsilon_list],yerr=[2*stdev_loss_ss_mle for j in epsilon_list],color='teal',linewidth = 5.0,alpha = .7,label = r\"State-action specfic $\\epsilon$ (MLE)\")\n",
        "\n",
        "ax.set_xlabel(\"Epsilon\",fontsize=18)\n",
        "ax.set_ylabel(\"Loss\",fontsize=18)\n",
        "ax.xaxis.set_major_locator(MaxNLocator(5))\n",
        "ax.yaxis.set_major_locator(MaxNLocator(5))\n",
        "ax.tick_params(axis='both', which='major', labelsize=14)\n",
        "ax.legend(fontsize=16)\n",
        "\n",
        "ax.legend(fontsize=18)\n",
        "\n",
        "fig.tight_layout(rect=[0.05, 0, 1, 0.85])\n",
        "plt.savefig('/content/gdrive/My Drive/cancer.pdf')"
      ]
    }
  ],
  "metadata": {
    "colab": {
      "machine_shape": "hm",
      "provenance": [],
      "collapsed_sections": [
        "ZoBR7eVXRXb7",
        "9ss61dyPSGEi"
      ]
    },
    "gpuClass": "standard",
    "kernelspec": {
      "display_name": "Python 3",
      "name": "python3"
    },
    "language_info": {
      "name": "python"
    }
  },
  "nbformat": 4,
  "nbformat_minor": 0
}